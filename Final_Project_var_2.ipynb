{
 "cells": [
  {
   "cell_type": "code",
   "execution_count": 1,
   "metadata": {},
   "outputs": [],
   "source": [
    "# Импорт необходимых библиотек\n",
    "\n",
    "import pandas as pd\n",
    "import numpy as np\n",
    "import matplotlib.pyplot as plt\n",
    "import seaborn as sns\n",
    "import requests\n",
    "from urllib.parse import urlencode \n",
    "from scipy.stats import norm, mannwhitneyu, ttest_ind, shapiro, levene, chi2_contingency\n",
    "import statsmodels.api as sm\n",
    "from datetime import datetime\n",
    "\n",
    "%matplotlib inline"
   ]
  },
  {
   "cell_type": "markdown",
   "metadata": {},
   "source": [
    "# Задача 1 — A/B-testing"
   ]
  },
  {
   "cell_type": "markdown",
   "metadata": {},
   "source": [
    "## 1. Выгрузка данных"
   ]
  },
  {
   "cell_type": "markdown",
   "metadata": {},
   "source": [
    "Так как данные находятся на платформе Яндекс.Диск, то воспользуемся библиотеками **requests** и **urllib** для того, чтобы получить ссылки на скачивание данных файлов и, в дальнейшем, преобразовать их в формат Датафрейма."
   ]
  },
  {
   "cell_type": "code",
   "execution_count": 2,
   "metadata": {},
   "outputs": [],
   "source": [
    "# 1.1 Создаем базовый URL\n",
    "\n",
    "base_url = 'https://cloud-api.yandex.net/v1/disk/public/resources/download?'"
   ]
  },
  {
   "cell_type": "code",
   "execution_count": 3,
   "metadata": {},
   "outputs": [],
   "source": [
    "# 1.2 Создаем частный URL для каждой ссылки, предоставленной на платформе LMS\n",
    "\n",
    "public_key_groups = 'https://disk.yandex.ru/d/58Us0DWOzuWAjg'\n",
    "public_key_groups_add = 'https://disk.yandex.ru/d/3aARY-P9pfaksg'\n",
    "public_key_active_studs = 'https://disk.yandex.ru/d/prbgU-rZpiXVYg'\n",
    "public_key_checks = 'https://disk.yandex.ru/d/84hTmELphW2sqQ'"
   ]
  },
  {
   "cell_type": "code",
   "execution_count": 4,
   "metadata": {},
   "outputs": [],
   "source": [
    "# 1.3 Соединяем предыдущие две части\n",
    "\n",
    "final_url_groups = base_url + urlencode(dict(public_key=public_key_groups))\n",
    "final_url_groups_add = base_url + urlencode(dict(public_key=public_key_groups_add))\n",
    "final_url_active_studs = base_url + urlencode(dict(public_key=public_key_active_studs))\n",
    "final_url_checks = base_url + urlencode(dict(public_key=public_key_checks))"
   ]
  },
  {
   "cell_type": "code",
   "execution_count": 5,
   "metadata": {},
   "outputs": [],
   "source": [
    "# 1.4 Собственно создаем валидные ссылки для скачивания файлов\n",
    "\n",
    "response_groups = requests.get(final_url_groups)\n",
    "response_groups_add = requests.get(final_url_groups_add)\n",
    "response_active_studs = requests.get(final_url_active_studs)\n",
    "response_checks = requests.get(final_url_checks)"
   ]
  },
  {
   "cell_type": "code",
   "execution_count": 6,
   "metadata": {},
   "outputs": [],
   "source": [
    "download_url_groups = response_groups.json()['href']\n",
    "download_url_groups_add = response_groups_add.json()['href']\n",
    "download_url_active_studs = response_active_studs.json()['href']\n",
    "download_url_checks = response_checks.json()['href']"
   ]
  },
  {
   "cell_type": "code",
   "execution_count": 7,
   "metadata": {},
   "outputs": [],
   "source": [
    "# 1.5 Считываем данные и преобразуем наши данные в формат пандасовского датафрейма\n",
    "\n",
    "groups = pd.read_csv(download_url_groups, sep=';')\n",
    "groups_add = pd.read_csv(download_url_groups_add)\n",
    "active_studs = pd.read_csv(download_url_active_studs)\n",
    "checks = pd.read_csv(download_url_checks, sep=';')"
   ]
  },
  {
   "cell_type": "markdown",
   "metadata": {},
   "source": [
    "## 2. Предварительный анализ данных (EDA), преобразование в нужный вид"
   ]
  },
  {
   "cell_type": "markdown",
   "metadata": {},
   "source": [
    "Перед тем, как приступить к решению задач, нужно удостовериться, что с нашими данными все в порядке. Для этого мы проведем предварительный анализ, то есть посмотрим, есть ли в наших данных пропущенные значения, дубликаты и т.д. Пройдемся по каждому файлу."
   ]
  },
  {
   "cell_type": "markdown",
   "metadata": {},
   "source": [
    "##### groups"
   ]
  },
  {
   "cell_type": "code",
   "execution_count": 8,
   "metadata": {
    "scrolled": true
   },
   "outputs": [
    {
     "data": {
      "text/html": [
       "<div>\n",
       "<style scoped>\n",
       "    .dataframe tbody tr th:only-of-type {\n",
       "        vertical-align: middle;\n",
       "    }\n",
       "\n",
       "    .dataframe tbody tr th {\n",
       "        vertical-align: top;\n",
       "    }\n",
       "\n",
       "    .dataframe thead th {\n",
       "        text-align: right;\n",
       "    }\n",
       "</style>\n",
       "<table border=\"1\" class=\"dataframe\">\n",
       "  <thead>\n",
       "    <tr style=\"text-align: right;\">\n",
       "      <th></th>\n",
       "      <th>id</th>\n",
       "      <th>grp</th>\n",
       "    </tr>\n",
       "  </thead>\n",
       "  <tbody>\n",
       "    <tr>\n",
       "      <th>0</th>\n",
       "      <td>1489</td>\n",
       "      <td>B</td>\n",
       "    </tr>\n",
       "    <tr>\n",
       "      <th>1</th>\n",
       "      <td>1627</td>\n",
       "      <td>A</td>\n",
       "    </tr>\n",
       "    <tr>\n",
       "      <th>2</th>\n",
       "      <td>1768</td>\n",
       "      <td>B</td>\n",
       "    </tr>\n",
       "    <tr>\n",
       "      <th>3</th>\n",
       "      <td>1783</td>\n",
       "      <td>B</td>\n",
       "    </tr>\n",
       "    <tr>\n",
       "      <th>4</th>\n",
       "      <td>1794</td>\n",
       "      <td>A</td>\n",
       "    </tr>\n",
       "  </tbody>\n",
       "</table>\n",
       "</div>"
      ],
      "text/plain": [
       "     id grp\n",
       "0  1489   B\n",
       "1  1627   A\n",
       "2  1768   B\n",
       "3  1783   B\n",
       "4  1794   A"
      ]
     },
     "execution_count": 8,
     "metadata": {},
     "output_type": "execute_result"
    }
   ],
   "source": [
    "groups.head()"
   ]
  },
  {
   "cell_type": "code",
   "execution_count": 9,
   "metadata": {},
   "outputs": [
    {
     "data": {
      "text/plain": [
       "id      int64\n",
       "grp    object\n",
       "dtype: object"
      ]
     },
     "execution_count": 9,
     "metadata": {},
     "output_type": "execute_result"
    }
   ],
   "source": [
    "groups.dtypes"
   ]
  },
  {
   "cell_type": "code",
   "execution_count": 10,
   "metadata": {},
   "outputs": [
    {
     "data": {
      "text/plain": [
       "id     0\n",
       "grp    0\n",
       "dtype: int64"
      ]
     },
     "execution_count": 10,
     "metadata": {},
     "output_type": "execute_result"
    }
   ],
   "source": [
    "groups.isna().sum()"
   ]
  },
  {
   "cell_type": "code",
   "execution_count": 11,
   "metadata": {},
   "outputs": [
    {
     "data": {
      "text/plain": [
       "0"
      ]
     },
     "execution_count": 11,
     "metadata": {},
     "output_type": "execute_result"
    }
   ],
   "source": [
    "groups.duplicated(subset=['id']).sum()"
   ]
  },
  {
   "cell_type": "markdown",
   "metadata": {},
   "source": [
    "##### groups_add"
   ]
  },
  {
   "cell_type": "code",
   "execution_count": 12,
   "metadata": {
    "scrolled": false
   },
   "outputs": [
    {
     "data": {
      "text/html": [
       "<div>\n",
       "<style scoped>\n",
       "    .dataframe tbody tr th:only-of-type {\n",
       "        vertical-align: middle;\n",
       "    }\n",
       "\n",
       "    .dataframe tbody tr th {\n",
       "        vertical-align: top;\n",
       "    }\n",
       "\n",
       "    .dataframe thead th {\n",
       "        text-align: right;\n",
       "    }\n",
       "</style>\n",
       "<table border=\"1\" class=\"dataframe\">\n",
       "  <thead>\n",
       "    <tr style=\"text-align: right;\">\n",
       "      <th></th>\n",
       "      <th>id</th>\n",
       "      <th>grp</th>\n",
       "    </tr>\n",
       "  </thead>\n",
       "  <tbody>\n",
       "    <tr>\n",
       "      <th>0</th>\n",
       "      <td>5694584</td>\n",
       "      <td>B</td>\n",
       "    </tr>\n",
       "    <tr>\n",
       "      <th>1</th>\n",
       "      <td>5694830</td>\n",
       "      <td>B</td>\n",
       "    </tr>\n",
       "    <tr>\n",
       "      <th>2</th>\n",
       "      <td>5695057</td>\n",
       "      <td>B</td>\n",
       "    </tr>\n",
       "    <tr>\n",
       "      <th>3</th>\n",
       "      <td>5698872</td>\n",
       "      <td>B</td>\n",
       "    </tr>\n",
       "    <tr>\n",
       "      <th>4</th>\n",
       "      <td>5699067</td>\n",
       "      <td>B</td>\n",
       "    </tr>\n",
       "  </tbody>\n",
       "</table>\n",
       "</div>"
      ],
      "text/plain": [
       "        id grp\n",
       "0  5694584   B\n",
       "1  5694830   B\n",
       "2  5695057   B\n",
       "3  5698872   B\n",
       "4  5699067   B"
      ]
     },
     "execution_count": 12,
     "metadata": {},
     "output_type": "execute_result"
    }
   ],
   "source": [
    "groups_add.head()"
   ]
  },
  {
   "cell_type": "code",
   "execution_count": 13,
   "metadata": {},
   "outputs": [
    {
     "data": {
      "text/plain": [
       "id      int64\n",
       "grp    object\n",
       "dtype: object"
      ]
     },
     "execution_count": 13,
     "metadata": {},
     "output_type": "execute_result"
    }
   ],
   "source": [
    "groups_add.dtypes"
   ]
  },
  {
   "cell_type": "code",
   "execution_count": 14,
   "metadata": {},
   "outputs": [
    {
     "data": {
      "text/plain": [
       "id     0\n",
       "grp    0\n",
       "dtype: int64"
      ]
     },
     "execution_count": 14,
     "metadata": {},
     "output_type": "execute_result"
    }
   ],
   "source": [
    "groups_add.isna().sum()"
   ]
  },
  {
   "cell_type": "code",
   "execution_count": 15,
   "metadata": {},
   "outputs": [
    {
     "data": {
      "text/plain": [
       "0"
      ]
     },
     "execution_count": 15,
     "metadata": {},
     "output_type": "execute_result"
    }
   ],
   "source": [
    "groups_add.duplicated(subset=['id']).sum()"
   ]
  },
  {
   "cell_type": "markdown",
   "metadata": {},
   "source": [
    "##### active_studs"
   ]
  },
  {
   "cell_type": "code",
   "execution_count": 16,
   "metadata": {},
   "outputs": [
    {
     "data": {
      "text/html": [
       "<div>\n",
       "<style scoped>\n",
       "    .dataframe tbody tr th:only-of-type {\n",
       "        vertical-align: middle;\n",
       "    }\n",
       "\n",
       "    .dataframe tbody tr th {\n",
       "        vertical-align: top;\n",
       "    }\n",
       "\n",
       "    .dataframe thead th {\n",
       "        text-align: right;\n",
       "    }\n",
       "</style>\n",
       "<table border=\"1\" class=\"dataframe\">\n",
       "  <thead>\n",
       "    <tr style=\"text-align: right;\">\n",
       "      <th></th>\n",
       "      <th>student_id</th>\n",
       "    </tr>\n",
       "  </thead>\n",
       "  <tbody>\n",
       "    <tr>\n",
       "      <th>0</th>\n",
       "      <td>581585</td>\n",
       "    </tr>\n",
       "    <tr>\n",
       "      <th>1</th>\n",
       "      <td>5723133</td>\n",
       "    </tr>\n",
       "    <tr>\n",
       "      <th>2</th>\n",
       "      <td>3276743</td>\n",
       "    </tr>\n",
       "    <tr>\n",
       "      <th>3</th>\n",
       "      <td>4238589</td>\n",
       "    </tr>\n",
       "    <tr>\n",
       "      <th>4</th>\n",
       "      <td>4475369</td>\n",
       "    </tr>\n",
       "  </tbody>\n",
       "</table>\n",
       "</div>"
      ],
      "text/plain": [
       "   student_id\n",
       "0      581585\n",
       "1     5723133\n",
       "2     3276743\n",
       "3     4238589\n",
       "4     4475369"
      ]
     },
     "execution_count": 16,
     "metadata": {},
     "output_type": "execute_result"
    }
   ],
   "source": [
    "active_studs.head()"
   ]
  },
  {
   "cell_type": "code",
   "execution_count": 17,
   "metadata": {},
   "outputs": [
    {
     "data": {
      "text/plain": [
       "student_id    int64\n",
       "dtype: object"
      ]
     },
     "execution_count": 17,
     "metadata": {},
     "output_type": "execute_result"
    }
   ],
   "source": [
    "active_studs.dtypes"
   ]
  },
  {
   "cell_type": "code",
   "execution_count": 18,
   "metadata": {},
   "outputs": [
    {
     "data": {
      "text/plain": [
       "student_id    0\n",
       "dtype: int64"
      ]
     },
     "execution_count": 18,
     "metadata": {},
     "output_type": "execute_result"
    }
   ],
   "source": [
    "active_studs.isna().sum()"
   ]
  },
  {
   "cell_type": "code",
   "execution_count": 19,
   "metadata": {
    "scrolled": true
   },
   "outputs": [
    {
     "data": {
      "text/plain": [
       "0"
      ]
     },
     "execution_count": 19,
     "metadata": {},
     "output_type": "execute_result"
    }
   ],
   "source": [
    "active_studs.duplicated().sum()"
   ]
  },
  {
   "cell_type": "markdown",
   "metadata": {},
   "source": [
    "##### checks"
   ]
  },
  {
   "cell_type": "code",
   "execution_count": 20,
   "metadata": {},
   "outputs": [
    {
     "data": {
      "text/html": [
       "<div>\n",
       "<style scoped>\n",
       "    .dataframe tbody tr th:only-of-type {\n",
       "        vertical-align: middle;\n",
       "    }\n",
       "\n",
       "    .dataframe tbody tr th {\n",
       "        vertical-align: top;\n",
       "    }\n",
       "\n",
       "    .dataframe thead th {\n",
       "        text-align: right;\n",
       "    }\n",
       "</style>\n",
       "<table border=\"1\" class=\"dataframe\">\n",
       "  <thead>\n",
       "    <tr style=\"text-align: right;\">\n",
       "      <th></th>\n",
       "      <th>student_id</th>\n",
       "      <th>rev</th>\n",
       "    </tr>\n",
       "  </thead>\n",
       "  <tbody>\n",
       "    <tr>\n",
       "      <th>0</th>\n",
       "      <td>1627</td>\n",
       "      <td>990.0</td>\n",
       "    </tr>\n",
       "    <tr>\n",
       "      <th>1</th>\n",
       "      <td>3185</td>\n",
       "      <td>690.0</td>\n",
       "    </tr>\n",
       "    <tr>\n",
       "      <th>2</th>\n",
       "      <td>25973</td>\n",
       "      <td>690.0</td>\n",
       "    </tr>\n",
       "    <tr>\n",
       "      <th>3</th>\n",
       "      <td>26280</td>\n",
       "      <td>690.0</td>\n",
       "    </tr>\n",
       "    <tr>\n",
       "      <th>4</th>\n",
       "      <td>100300</td>\n",
       "      <td>990.0</td>\n",
       "    </tr>\n",
       "  </tbody>\n",
       "</table>\n",
       "</div>"
      ],
      "text/plain": [
       "   student_id    rev\n",
       "0        1627  990.0\n",
       "1        3185  690.0\n",
       "2       25973  690.0\n",
       "3       26280  690.0\n",
       "4      100300  990.0"
      ]
     },
     "execution_count": 20,
     "metadata": {},
     "output_type": "execute_result"
    }
   ],
   "source": [
    "checks.head()"
   ]
  },
  {
   "cell_type": "code",
   "execution_count": 21,
   "metadata": {},
   "outputs": [
    {
     "data": {
      "text/plain": [
       "student_id      int64\n",
       "rev           float64\n",
       "dtype: object"
      ]
     },
     "execution_count": 21,
     "metadata": {},
     "output_type": "execute_result"
    }
   ],
   "source": [
    "checks.dtypes"
   ]
  },
  {
   "cell_type": "code",
   "execution_count": 22,
   "metadata": {},
   "outputs": [
    {
     "data": {
      "text/plain": [
       "student_id    0\n",
       "rev           0\n",
       "dtype: int64"
      ]
     },
     "execution_count": 22,
     "metadata": {},
     "output_type": "execute_result"
    }
   ],
   "source": [
    "checks.isna().sum()"
   ]
  },
  {
   "cell_type": "code",
   "execution_count": 23,
   "metadata": {},
   "outputs": [
    {
     "data": {
      "text/plain": [
       "0"
      ]
     },
     "execution_count": 23,
     "metadata": {},
     "output_type": "execute_result"
    }
   ],
   "source": [
    "checks.duplicated(subset=['student_id']).sum()"
   ]
  },
  {
   "cell_type": "markdown",
   "metadata": {},
   "source": [
    "В наших данных нет ни дубликатов пользователей, ни пропущенных значений, и формат данных соответствует нужному типу. Так что можно двигаться дальше!"
   ]
  },
  {
   "cell_type": "markdown",
   "metadata": {},
   "source": [
    "По условиям задачи, помимо основных данных (groups), у нас есть также дополнительные данные по пользователям (groups_add), которые пришли 2-мя днями позже. Это значит, что эти данные нужно объединить в одну таблицу.\n",
    "\n",
    "После, у тех пользователей, которые зашли в день проведения эксперимента (active_studs) и сделали оплату (checks), мы должны узнать, к какой группе они принадлежат."
   ]
  },
  {
   "cell_type": "code",
   "execution_count": 24,
   "metadata": {},
   "outputs": [],
   "source": [
    "# 2.1 Соединяем таблицы \"groups\" и \"groups_add\"\n",
    "\n",
    "whole_group = pd.concat([groups, groups_add], ignore_index=True)"
   ]
  },
  {
   "cell_type": "code",
   "execution_count": 25,
   "metadata": {
    "scrolled": false
   },
   "outputs": [
    {
     "data": {
      "text/html": [
       "<div>\n",
       "<style scoped>\n",
       "    .dataframe tbody tr th:only-of-type {\n",
       "        vertical-align: middle;\n",
       "    }\n",
       "\n",
       "    .dataframe tbody tr th {\n",
       "        vertical-align: top;\n",
       "    }\n",
       "\n",
       "    .dataframe thead th {\n",
       "        text-align: right;\n",
       "    }\n",
       "</style>\n",
       "<table border=\"1\" class=\"dataframe\">\n",
       "  <thead>\n",
       "    <tr style=\"text-align: right;\">\n",
       "      <th></th>\n",
       "      <th>id</th>\n",
       "      <th>grp</th>\n",
       "    </tr>\n",
       "  </thead>\n",
       "  <tbody>\n",
       "    <tr>\n",
       "      <th>0</th>\n",
       "      <td>1489</td>\n",
       "      <td>B</td>\n",
       "    </tr>\n",
       "    <tr>\n",
       "      <th>1</th>\n",
       "      <td>1627</td>\n",
       "      <td>A</td>\n",
       "    </tr>\n",
       "    <tr>\n",
       "      <th>2</th>\n",
       "      <td>1768</td>\n",
       "      <td>B</td>\n",
       "    </tr>\n",
       "    <tr>\n",
       "      <th>3</th>\n",
       "      <td>1783</td>\n",
       "      <td>B</td>\n",
       "    </tr>\n",
       "    <tr>\n",
       "      <th>4</th>\n",
       "      <td>1794</td>\n",
       "      <td>A</td>\n",
       "    </tr>\n",
       "  </tbody>\n",
       "</table>\n",
       "</div>"
      ],
      "text/plain": [
       "     id grp\n",
       "0  1489   B\n",
       "1  1627   A\n",
       "2  1768   B\n",
       "3  1783   B\n",
       "4  1794   A"
      ]
     },
     "execution_count": 25,
     "metadata": {},
     "output_type": "execute_result"
    }
   ],
   "source": [
    "whole_group.head()"
   ]
  },
  {
   "cell_type": "code",
   "execution_count": 26,
   "metadata": {
    "scrolled": true
   },
   "outputs": [
    {
     "data": {
      "text/plain": [
       "<matplotlib.axes._subplots.AxesSubplot at 0x7f521635dc18>"
      ]
     },
     "execution_count": 26,
     "metadata": {},
     "output_type": "execute_result"
    },
    {
     "data": {
      "image/png": "[encoded data removed]",
      "text/plain": [
       "<Figure size 432x288 with 1 Axes>"
      ]
     },
     "metadata": {
      "needs_background": "light"
     },
     "output_type": "display_data"
    }
   ],
   "source": [
    "# 2.2 Посмотрим на количество пользователей в каждой из групп\n",
    "sns.countplot(x='grp', \n",
    "              data=whole_group,\n",
    "              order=['A', 'B'],\n",
    "              palette='hls')"
   ]
  },
  {
   "cell_type": "markdown",
   "metadata": {},
   "source": [
    "Видно, что в нашей общей выборке преимущественно пользователи из целевой группы (B)."
   ]
  },
  {
   "cell_type": "code",
   "execution_count": 27,
   "metadata": {},
   "outputs": [],
   "source": [
    "# 2.3 Объединяем предыдущую таблицу с таблицей пользователей, которые зашли в день проведения эксперимента\n",
    "\n",
    "active_studs_with_groups = active_studs.merge(whole_group, \n",
    "                                  left_on='student_id',\n",
    "                                  right_on='id',\n",
    "                                  how='left')\n",
    "\n",
    "active_studs_with_groups = active_studs_with_groups.drop('id', axis=1)"
   ]
  },
  {
   "cell_type": "code",
   "execution_count": 28,
   "metadata": {},
   "outputs": [
    {
     "data": {
      "text/plain": [
       "student_id    0\n",
       "grp           0\n",
       "dtype: int64"
      ]
     },
     "execution_count": 28,
     "metadata": {},
     "output_type": "execute_result"
    }
   ],
   "source": [
    "active_studs_with_groups.isna().sum()"
   ]
  },
  {
   "cell_type": "code",
   "execution_count": 29,
   "metadata": {
    "scrolled": true
   },
   "outputs": [
    {
     "data": {
      "text/plain": [
       "<matplotlib.axes._subplots.AxesSubplot at 0x7f5216280cc0>"
      ]
     },
     "execution_count": 29,
     "metadata": {},
     "output_type": "execute_result"
    },
    {
     "data": {
      "image/png": "[encoded data removed]",
      "text/plain": [
       "<Figure size 432x288 with 1 Axes>"
      ]
     },
     "metadata": {
      "needs_background": "light"
     },
     "output_type": "display_data"
    }
   ],
   "source": [
    "# 2.4 Посмотрим на распределение пользователей по группам в день проведения эксперимента\n",
    "sns.countplot(x='grp', \n",
    "              data=active_studs_with_groups,\n",
    "              palette='hls')"
   ]
  },
  {
   "cell_type": "markdown",
   "metadata": {},
   "source": [
    "Также можем посмотреть, насколько различны распределения групп в общей выборке и в день проведения эксперимента."
   ]
  },
  {
   "cell_type": "code",
   "execution_count": 30,
   "metadata": {},
   "outputs": [
    {
     "data": {
      "text/plain": [
       "B    0.80298\n",
       "A    0.19702\n",
       "Name: grp, dtype: float64"
      ]
     },
     "execution_count": 30,
     "metadata": {},
     "output_type": "execute_result"
    }
   ],
   "source": [
    "whole_group.grp.value_counts(normalize=True)"
   ]
  },
  {
   "cell_type": "code",
   "execution_count": 31,
   "metadata": {},
   "outputs": [
    {
     "data": {
      "text/plain": [
       "B    0.81561\n",
       "A    0.18439\n",
       "Name: grp, dtype: float64"
      ]
     },
     "execution_count": 31,
     "metadata": {},
     "output_type": "execute_result"
    }
   ],
   "source": [
    "active_studs_with_groups.grp.value_counts(normalize=True)"
   ]
  },
  {
   "cell_type": "markdown",
   "metadata": {},
   "source": [
    "Как видим, распределение групп практически не изменилось, то есть отношение количества людей в контрольной группе к целевой группе сохранилось в день проведения эксперимента."
   ]
  },
  {
   "cell_type": "code",
   "execution_count": 32,
   "metadata": {},
   "outputs": [],
   "source": [
    "# 2.5 Объединяем таблицу active_studs_with_groups с таблицей checks\n",
    "\n",
    "paid_users = active_studs_with_groups.merge(checks, \n",
    "                                            on='student_id')"
   ]
  },
  {
   "cell_type": "markdown",
   "metadata": {},
   "source": [
    "В данном случае мы мёрджим по inner join, так как в таблице checks есть данные по пользователям, которые не попали ни в контрольную, ни в целевую группы. Поэтому количество наблюдений в результирующей таблице будет не 541 (как в таблице checks), а меньше (в нашем случае 392)."
   ]
  },
  {
   "cell_type": "code",
   "execution_count": 33,
   "metadata": {},
   "outputs": [
    {
     "data": {
      "text/plain": [
       "(392, 3)"
      ]
     },
     "execution_count": 33,
     "metadata": {},
     "output_type": "execute_result"
    }
   ],
   "source": [
    "paid_users.shape"
   ]
  },
  {
   "cell_type": "code",
   "execution_count": 34,
   "metadata": {
    "scrolled": true
   },
   "outputs": [
    {
     "data": {
      "text/plain": [
       "<matplotlib.axes._subplots.AxesSubplot at 0x7f5215d76160>"
      ]
     },
     "execution_count": 34,
     "metadata": {},
     "output_type": "execute_result"
    },
    {
     "data": {
      "image/png": "[encoded data removed]",
      "text/plain": [
       "<Figure size 432x288 with 1 Axes>"
      ]
     },
     "metadata": {
      "needs_background": "light"
     },
     "output_type": "display_data"
    }
   ],
   "source": [
    "# 2.6 Посмотрим на соотношение количества пользователей в двух группах\n",
    "\n",
    "sns.countplot(x='grp',\n",
    "              data=paid_users,\n",
    "              palette='hls')"
   ]
  },
  {
   "cell_type": "code",
   "execution_count": 35,
   "metadata": {},
   "outputs": [
    {
     "data": {
      "text/plain": [
       "B    0.80102\n",
       "A    0.19898\n",
       "Name: grp, dtype: float64"
      ]
     },
     "execution_count": 35,
     "metadata": {},
     "output_type": "execute_result"
    }
   ],
   "source": [
    "paid_users.grp.value_counts(normalize=True)"
   ]
  },
  {
   "cell_type": "markdown",
   "metadata": {},
   "source": [
    "Соотношение количества пользователей, которые в день проведения эксперимента сделали покупку, в контрольной и тестовой группах осталось практически таким же."
   ]
  },
  {
   "cell_type": "code",
   "execution_count": 36,
   "metadata": {
    "scrolled": true
   },
   "outputs": [
    {
     "data": {
      "text/plain": [
       "<matplotlib.axes._subplots.AxesSubplot at 0x7f5215cc5a58>"
      ]
     },
     "execution_count": 36,
     "metadata": {},
     "output_type": "execute_result"
    },
    {
     "data": {
      "image/png": "[encoded data removed]",
      "text/plain": [
       "<Figure size 432x288 with 1 Axes>"
      ]
     },
     "metadata": {
      "needs_background": "light"
     },
     "output_type": "display_data"
    }
   ],
   "source": [
    "# 2.7 Построим гистограмму суммы покупок\n",
    "\n",
    "sns.histplot(x='rev',\n",
    "             data=paid_users,\n",
    "             bins=15)"
   ]
  },
  {
   "cell_type": "code",
   "execution_count": 37,
   "metadata": {},
   "outputs": [
    {
     "data": {
      "text/plain": [
       "<matplotlib.axes._subplots.AxesSubplot at 0x7f5215c655f8>"
      ]
     },
     "execution_count": 37,
     "metadata": {},
     "output_type": "execute_result"
    },
    {
     "data": {
      "image/png": "[encoded data removed]",
      "text/plain": [
       "<Figure size 432x288 with 1 Axes>"
      ]
     },
     "metadata": {
      "needs_background": "light"
     },
     "output_type": "display_data"
    }
   ],
   "source": [
    "# 2.8 Построим такую же гистограмму суммы покупок, НО с разделением на группы\n",
    "\n",
    "sns.histplot(x='rev',\n",
    "             data=paid_users,\n",
    "             hue='grp',\n",
    "             bins=15)"
   ]
  },
  {
   "cell_type": "markdown",
   "metadata": {},
   "source": [
    "Что на первой, что на второй гистограмме мы видим, что наши распределения далеки от нормального. \n",
    "\n",
    "Также бросается в глаза то, что в нашей тестовой группе довольно много пользователей совершивших покупку на сумму в районе 1700-2000 руб. Это мы также можем проверить с помощью метода value_counts()."
   ]
  },
  {
   "cell_type": "code",
   "execution_count": 38,
   "metadata": {},
   "outputs": [
    {
     "data": {
      "text/plain": [
       "(1682.667, 1979.4]    130\n",
       "(194.548, 495.733]     79\n",
       "(792.467, 1089.2]      46\n",
       "(495.733, 792.467]     25\n",
       "(1089.2, 1385.933]     11\n",
       "Name: rev, dtype: int64"
      ]
     },
     "execution_count": 38,
     "metadata": {},
     "output_type": "execute_result"
    }
   ],
   "source": [
    "paid_users[paid_users['grp'] == 'B'].rev.value_counts(bins=15).head(5)"
   ]
  },
  {
   "cell_type": "markdown",
   "metadata": {},
   "source": [
    "## 3. Выбор метрики для тестирования, определение нулевой гипотезы, выбор критерия оценки"
   ]
  },
  {
   "cell_type": "markdown",
   "metadata": {},
   "source": [
    "После того, как мы взглянули на наши данные и привели их в нужный нам вид, мы должны определить:\n",
    "\n",
    "1. Какую **метрику** мы будем сравнивать\\тестировать?\n",
    "\n",
    "2. Как звучит **нулевая гипотеза** для тестирования данной метрики?\n",
    "\n",
    "3. Какой **статистический критерий** нужно выбрать для данного эксперимента?\n",
    "\n",
    "Этого нужно для того, чтобы ответить на вопрос:\n",
    "\n",
    "<i>Является ли новая механика оплаты услуг на сайте более эффективной? Если да, то как именно она влияет?</i>"
   ]
  },
  {
   "cell_type": "markdown",
   "metadata": {},
   "source": [
    "#### Возможные варианты"
   ]
  },
  {
   "cell_type": "markdown",
   "metadata": {},
   "source": [
    "1. Расчет **конверсии во вхождение на сайт в день проведения эксперимента** является бессмысленной, так как кажется, что установка новой системы оплаты не должна влиять на то, зайдет ли человек на сайт или нет. \n",
    "\n",
    "<i>P.S. Есть небольшая вероятность того, что человеку может понравиться новая система оплаты, и это заставит его заходить чаще. Однако, это уже другой вопрос.</i>\n",
    "\n",
    "2. Расчет **конверсии из вхождения на сайт в покупку** кажется довольно целесообразной метрикой для сравнения. Для этого мы можем использовать критерий **Хи-квадрат** и сформулировать нулевую гипотезу следующим образом: \n",
    "<blockquote>Наши переменные (конверсии) в двух группах независимы, и распределение значений в этих группах относительно одинаковые</blockquote>\n",
    "\n",
    "3. Сравнение **среднего значения суммы покупки для двух групп, включающих в себя только платящих пользователей**. Тем самым, мы сравниваем <i>ARPPU</i> в контрольной и тестовой группе. Здесь можно использовать несколько критериев (гипотезы будут отличаться, однако они применимы для нашего кейса, при условии, что соблюдаются требования к их применению). Однако, как будет показано дальше, я выберу метод **Bootstrap**, так как для t-критерия Стьюдента соблюдаются не все условия, что может привести к не самым точным результатам. По итогу наша нулевая гипотеза будет следующая:\n",
    "<blockquote>Средние значения суммы покупок для платящих пользователей в двух группах не отличаются</blockquote>\n",
    "\n",
    "4. Также можно сделать сравнение **среднего значения суммы покупки для двух групп, учитывая всех пользователей, участвовавших в день проведения эксперимента**. То есть, мы будем сравнивать <i>ARPU</i>."
   ]
  },
  {
   "cell_type": "markdown",
   "metadata": {},
   "source": [
    "#### 3.1 Конверсия из вхождения в покупку (CR_pay)"
   ]
  },
  {
   "cell_type": "markdown",
   "metadata": {},
   "source": [
    "Для этого нам пригодится таблица <i>active_studs_with_groups</i>, в которой хранятся данные по пользователей, которые зашли в день эксперимента, и их группы. Также в таблице <i>checks</i> создадим колонку с единицами, которая означает совершение покупки."
   ]
  },
  {
   "cell_type": "code",
   "execution_count": 39,
   "metadata": {},
   "outputs": [
    {
     "data": {
      "text/html": [
       "<div>\n",
       "<style scoped>\n",
       "    .dataframe tbody tr th:only-of-type {\n",
       "        vertical-align: middle;\n",
       "    }\n",
       "\n",
       "    .dataframe tbody tr th {\n",
       "        vertical-align: top;\n",
       "    }\n",
       "\n",
       "    .dataframe thead th {\n",
       "        text-align: right;\n",
       "    }\n",
       "</style>\n",
       "<table border=\"1\" class=\"dataframe\">\n",
       "  <thead>\n",
       "    <tr style=\"text-align: right;\">\n",
       "      <th></th>\n",
       "      <th>student_id</th>\n",
       "      <th>grp</th>\n",
       "    </tr>\n",
       "  </thead>\n",
       "  <tbody>\n",
       "    <tr>\n",
       "      <th>0</th>\n",
       "      <td>581585</td>\n",
       "      <td>A</td>\n",
       "    </tr>\n",
       "    <tr>\n",
       "      <th>1</th>\n",
       "      <td>5723133</td>\n",
       "      <td>A</td>\n",
       "    </tr>\n",
       "    <tr>\n",
       "      <th>2</th>\n",
       "      <td>3276743</td>\n",
       "      <td>B</td>\n",
       "    </tr>\n",
       "    <tr>\n",
       "      <th>3</th>\n",
       "      <td>4238589</td>\n",
       "      <td>A</td>\n",
       "    </tr>\n",
       "    <tr>\n",
       "      <th>4</th>\n",
       "      <td>4475369</td>\n",
       "      <td>B</td>\n",
       "    </tr>\n",
       "  </tbody>\n",
       "</table>\n",
       "</div>"
      ],
      "text/plain": [
       "   student_id grp\n",
       "0      581585   A\n",
       "1     5723133   A\n",
       "2     3276743   B\n",
       "3     4238589   A\n",
       "4     4475369   B"
      ]
     },
     "execution_count": 39,
     "metadata": {},
     "output_type": "execute_result"
    }
   ],
   "source": [
    "active_studs_with_groups.head()"
   ]
  },
  {
   "cell_type": "code",
   "execution_count": 40,
   "metadata": {},
   "outputs": [],
   "source": [
    "# 3.1.1 Добавим столбец с единицами\n",
    "\n",
    "checks['is_paid'] = 1 "
   ]
  },
  {
   "cell_type": "code",
   "execution_count": 41,
   "metadata": {},
   "outputs": [
    {
     "data": {
      "text/html": [
       "<div>\n",
       "<style scoped>\n",
       "    .dataframe tbody tr th:only-of-type {\n",
       "        vertical-align: middle;\n",
       "    }\n",
       "\n",
       "    .dataframe tbody tr th {\n",
       "        vertical-align: top;\n",
       "    }\n",
       "\n",
       "    .dataframe thead th {\n",
       "        text-align: right;\n",
       "    }\n",
       "</style>\n",
       "<table border=\"1\" class=\"dataframe\">\n",
       "  <thead>\n",
       "    <tr style=\"text-align: right;\">\n",
       "      <th></th>\n",
       "      <th>student_id</th>\n",
       "      <th>rev</th>\n",
       "      <th>is_paid</th>\n",
       "    </tr>\n",
       "  </thead>\n",
       "  <tbody>\n",
       "    <tr>\n",
       "      <th>0</th>\n",
       "      <td>1627</td>\n",
       "      <td>990.0</td>\n",
       "      <td>1</td>\n",
       "    </tr>\n",
       "    <tr>\n",
       "      <th>1</th>\n",
       "      <td>3185</td>\n",
       "      <td>690.0</td>\n",
       "      <td>1</td>\n",
       "    </tr>\n",
       "    <tr>\n",
       "      <th>2</th>\n",
       "      <td>25973</td>\n",
       "      <td>690.0</td>\n",
       "      <td>1</td>\n",
       "    </tr>\n",
       "    <tr>\n",
       "      <th>3</th>\n",
       "      <td>26280</td>\n",
       "      <td>690.0</td>\n",
       "      <td>1</td>\n",
       "    </tr>\n",
       "    <tr>\n",
       "      <th>4</th>\n",
       "      <td>100300</td>\n",
       "      <td>990.0</td>\n",
       "      <td>1</td>\n",
       "    </tr>\n",
       "  </tbody>\n",
       "</table>\n",
       "</div>"
      ],
      "text/plain": [
       "   student_id    rev  is_paid\n",
       "0        1627  990.0        1\n",
       "1        3185  690.0        1\n",
       "2       25973  690.0        1\n",
       "3       26280  690.0        1\n",
       "4      100300  990.0        1"
      ]
     },
     "execution_count": 41,
     "metadata": {},
     "output_type": "execute_result"
    }
   ],
   "source": [
    "checks.head()"
   ]
  },
  {
   "cell_type": "code",
   "execution_count": 42,
   "metadata": {},
   "outputs": [],
   "source": [
    "# 3.1.2 Создадим общую таблицу, в которой указаны номера студентов и сумма их покупок.\n",
    "# В данном случае мы делаем 'left join', чтобы у тех студентов, которые были в день эксперимента, но ничего не покупали, было\n",
    "# значение NaN. Далее мы их заменим на 0.\n",
    "\n",
    "paid_studs_for_cr = active_studs_with_groups.merge(checks[['student_id', 'is_paid']],\n",
    "                                                on='student_id',\n",
    "                                                how='left')"
   ]
  },
  {
   "cell_type": "code",
   "execution_count": 43,
   "metadata": {},
   "outputs": [],
   "source": [
    "paid_studs_for_cr = paid_studs_for_cr.fillna(0)\n",
    "paid_studs_for_cr['is_paid'] = paid_studs_for_cr['is_paid'].astype('int')"
   ]
  },
  {
   "cell_type": "code",
   "execution_count": 44,
   "metadata": {
    "scrolled": false
   },
   "outputs": [
    {
     "data": {
      "text/html": [
       "<div>\n",
       "<style scoped>\n",
       "    .dataframe tbody tr th:only-of-type {\n",
       "        vertical-align: middle;\n",
       "    }\n",
       "\n",
       "    .dataframe tbody tr th {\n",
       "        vertical-align: top;\n",
       "    }\n",
       "\n",
       "    .dataframe thead th {\n",
       "        text-align: right;\n",
       "    }\n",
       "</style>\n",
       "<table border=\"1\" class=\"dataframe\">\n",
       "  <thead>\n",
       "    <tr style=\"text-align: right;\">\n",
       "      <th></th>\n",
       "      <th>student_id</th>\n",
       "      <th>grp</th>\n",
       "      <th>is_paid</th>\n",
       "    </tr>\n",
       "  </thead>\n",
       "  <tbody>\n",
       "    <tr>\n",
       "      <th>0</th>\n",
       "      <td>581585</td>\n",
       "      <td>A</td>\n",
       "      <td>0</td>\n",
       "    </tr>\n",
       "    <tr>\n",
       "      <th>1</th>\n",
       "      <td>5723133</td>\n",
       "      <td>A</td>\n",
       "      <td>0</td>\n",
       "    </tr>\n",
       "    <tr>\n",
       "      <th>2</th>\n",
       "      <td>3276743</td>\n",
       "      <td>B</td>\n",
       "      <td>0</td>\n",
       "    </tr>\n",
       "    <tr>\n",
       "      <th>3</th>\n",
       "      <td>4238589</td>\n",
       "      <td>A</td>\n",
       "      <td>0</td>\n",
       "    </tr>\n",
       "    <tr>\n",
       "      <th>4</th>\n",
       "      <td>4475369</td>\n",
       "      <td>B</td>\n",
       "      <td>0</td>\n",
       "    </tr>\n",
       "  </tbody>\n",
       "</table>\n",
       "</div>"
      ],
      "text/plain": [
       "   student_id grp  is_paid\n",
       "0      581585   A        0\n",
       "1     5723133   A        0\n",
       "2     3276743   B        0\n",
       "3     4238589   A        0\n",
       "4     4475369   B        0"
      ]
     },
     "execution_count": 44,
     "metadata": {},
     "output_type": "execute_result"
    }
   ],
   "source": [
    "paid_studs_for_cr.head()"
   ]
  },
  {
   "cell_type": "code",
   "execution_count": 45,
   "metadata": {},
   "outputs": [
    {
     "data": {
      "text/plain": [
       "grp  is_paid\n",
       "A    0          1460\n",
       "     1            78\n",
       "B    0          6489\n",
       "     1           314\n",
       "Name: is_paid, dtype: int64"
      ]
     },
     "execution_count": 45,
     "metadata": {},
     "output_type": "execute_result"
    }
   ],
   "source": [
    "# 3.1.3 Посмотрим на распределение пользователей на купивших-некупивших в двух группах\n",
    "# '1' — была покупка, '0' - покупки не было\n",
    "\n",
    "paid_studs_for_cr.groupby('grp').is_paid.value_counts()"
   ]
  },
  {
   "cell_type": "code",
   "execution_count": 46,
   "metadata": {},
   "outputs": [],
   "source": [
    "# 3.1.4 Разделим нашу таблицу на группу А и В\n",
    "\n",
    "grp_A = paid_studs_for_cr[paid_studs_for_cr['grp'] == 'A']\n",
    "grp_B = paid_studs_for_cr[paid_studs_for_cr['grp'] == 'B']"
   ]
  },
  {
   "cell_type": "code",
   "execution_count": 47,
   "metadata": {},
   "outputs": [],
   "source": [
    "# 3.1.5 Введем переменные, где укажем количество купивших и не купивших в каждой из групп\n",
    "\n",
    "grp_A_pay = grp_A.is_paid.sum()\n",
    "grp_A_no_pay = grp_A.is_paid.size - grp_A.is_paid.sum()\n",
    "grp_B_pay = grp_B.is_paid.sum()\n",
    "grp_B_no_pay = grp_B.is_paid.size - grp_B.is_paid.sum()"
   ]
  },
  {
   "cell_type": "code",
   "execution_count": 48,
   "metadata": {},
   "outputs": [
    {
     "name": "stdout",
     "output_type": "stream",
     "text": [
      "78\n",
      "1460\n",
      "314\n",
      "6489\n"
     ]
    }
   ],
   "source": [
    "print(grp_A_pay)\n",
    "print(grp_A_no_pay)\n",
    "print(grp_B_pay)\n",
    "print(grp_B_no_pay)"
   ]
  },
  {
   "cell_type": "code",
   "execution_count": 49,
   "metadata": {},
   "outputs": [],
   "source": [
    "# 3.1.6 Создадим матрицу с нашими значениями\n",
    "\n",
    "CR_pay_matrix = np.array([[grp_A_pay, grp_A_no_pay],\n",
    "                          [grp_B_pay, grp_B_no_pay]])"
   ]
  },
  {
   "cell_type": "code",
   "execution_count": 50,
   "metadata": {},
   "outputs": [
    {
     "data": {
      "text/plain": [
       "array([[  78, 1460],\n",
       "       [ 314, 6489]])"
      ]
     },
     "execution_count": 50,
     "metadata": {},
     "output_type": "execute_result"
    }
   ],
   "source": [
    "CR_pay_matrix"
   ]
  },
  {
   "cell_type": "code",
   "execution_count": 51,
   "metadata": {},
   "outputs": [
    {
     "name": "stdout",
     "output_type": "stream",
     "text": [
      "0.44547028437158964\n"
     ]
    }
   ],
   "source": [
    "# 3.1.7 Проверим наши данные по критерию Хи-квадрат\n",
    "\n",
    "print(chi2_contingency(CR_pay_matrix, correction=False)[1])"
   ]
  },
  {
   "cell_type": "markdown",
   "metadata": {},
   "source": [
    "По результату критерия **Хи-квадрат** (берем уровень альфа, равным 5%), мы не можем отклонить нулевую гипотезу, что наши конверсии в 2-х группах независимы и их распределения относительно одинаковы. Это значит, что скорее всего, новая механика не влияет на то, решится ли пользователь что-то купить или нет."
   ]
  },
  {
   "cell_type": "markdown",
   "metadata": {},
   "source": [
    "#### 3.2 Среднее значение суммы покупки для двух групп, включающих в себя только платящих пользователей (ARPPU)"
   ]
  },
  {
   "cell_type": "markdown",
   "metadata": {
    "scrolled": true
   },
   "source": [
    "Первым делом стоит взглянуть на соотношение наших значений.\n"
   ]
  },
  {
   "cell_type": "code",
   "execution_count": 52,
   "metadata": {},
   "outputs": [
    {
     "data": {
      "text/html": [
       "<div>\n",
       "<style scoped>\n",
       "    .dataframe tbody tr th:only-of-type {\n",
       "        vertical-align: middle;\n",
       "    }\n",
       "\n",
       "    .dataframe tbody tr th {\n",
       "        vertical-align: top;\n",
       "    }\n",
       "\n",
       "    .dataframe thead th {\n",
       "        text-align: right;\n",
       "    }\n",
       "</style>\n",
       "<table border=\"1\" class=\"dataframe\">\n",
       "  <thead>\n",
       "    <tr style=\"text-align: right;\">\n",
       "      <th></th>\n",
       "      <th>student_id</th>\n",
       "      <th>grp</th>\n",
       "      <th>rev</th>\n",
       "    </tr>\n",
       "  </thead>\n",
       "  <tbody>\n",
       "    <tr>\n",
       "      <th>0</th>\n",
       "      <td>1184303</td>\n",
       "      <td>A</td>\n",
       "      <td>1530.0000</td>\n",
       "    </tr>\n",
       "    <tr>\n",
       "      <th>1</th>\n",
       "      <td>3354191</td>\n",
       "      <td>B</td>\n",
       "      <td>1900.0001</td>\n",
       "    </tr>\n",
       "    <tr>\n",
       "      <th>2</th>\n",
       "      <td>3278734</td>\n",
       "      <td>B</td>\n",
       "      <td>1900.0000</td>\n",
       "    </tr>\n",
       "    <tr>\n",
       "      <th>3</th>\n",
       "      <td>720651</td>\n",
       "      <td>A</td>\n",
       "      <td>1980.0000</td>\n",
       "    </tr>\n",
       "    <tr>\n",
       "      <th>4</th>\n",
       "      <td>1232221</td>\n",
       "      <td>B</td>\n",
       "      <td>1900.0000</td>\n",
       "    </tr>\n",
       "  </tbody>\n",
       "</table>\n",
       "</div>"
      ],
      "text/plain": [
       "   student_id grp        rev\n",
       "0     1184303   A  1530.0000\n",
       "1     3354191   B  1900.0001\n",
       "2     3278734   B  1900.0000\n",
       "3      720651   A  1980.0000\n",
       "4     1232221   B  1900.0000"
      ]
     },
     "execution_count": 52,
     "metadata": {},
     "output_type": "execute_result"
    }
   ],
   "source": [
    "paid_users.head()"
   ]
  },
  {
   "cell_type": "code",
   "execution_count": 53,
   "metadata": {},
   "outputs": [
    {
     "data": {
      "text/plain": [
       "B    314\n",
       "A     78\n",
       "Name: grp, dtype: int64"
      ]
     },
     "execution_count": 53,
     "metadata": {},
     "output_type": "execute_result"
    }
   ],
   "source": [
    "paid_users.grp.value_counts()"
   ]
  },
  {
   "cell_type": "code",
   "execution_count": 54,
   "metadata": {
    "scrolled": false
   },
   "outputs": [
    {
     "data": {
      "text/plain": [
       "<matplotlib.axes._subplots.AxesSubplot at 0x7f5215bb0be0>"
      ]
     },
     "execution_count": 54,
     "metadata": {},
     "output_type": "execute_result"
    },
    {
     "data": {
      "image/png": "[encoded data removed]",
      "text/plain": [
       "<Figure size 432x288 with 1 Axes>"
      ]
     },
     "metadata": {
      "needs_background": "light"
     },
     "output_type": "display_data"
    }
   ],
   "source": [
    "# 3.2.1 Построим гистограмму как в предыдущий раз\n",
    "\n",
    "sns.histplot(x='rev', \n",
    "             data=paid_users, \n",
    "             hue='grp', \n",
    "             bins=15)"
   ]
  },
  {
   "cell_type": "markdown",
   "metadata": {},
   "source": [
    "Уже на гистограммах наших значений заметно, что ни в тестовой, ни в контрольной группах распределение не близко к нормальному, что уже ставит под сомнение выбор **t-теста**.\n",
    "\n",
    "Утверждают, что при большой выборке данным требованием можно пренебречь. Однако, наших данных не так то много (392 наблюдений)."
   ]
  },
  {
   "cell_type": "code",
   "execution_count": 55,
   "metadata": {},
   "outputs": [],
   "source": [
    "# 3.2.2 Создаем выборки с тестовой и контрольной группами\n",
    "\n",
    "control_grp = paid_users[paid_users['grp'] == 'A'].rev\n",
    "test_grp = paid_users[paid_users['grp'] == 'B'].rev"
   ]
  },
  {
   "cell_type": "code",
   "execution_count": 56,
   "metadata": {},
   "outputs": [
    {
     "data": {
      "image/png": "[encoded data removed]",
      "text/plain": [
       "<Figure size 432x288 with 1 Axes>"
      ]
     },
     "execution_count": 56,
     "metadata": {},
     "output_type": "execute_result"
    },
    {
     "data": {
      "image/png": "[encoded data removed]",
      "text/plain": [
       "<Figure size 432x288 with 1 Axes>"
      ]
     },
     "metadata": {
      "needs_background": "light"
     },
     "output_type": "display_data"
    }
   ],
   "source": [
    "# 3.2.3 Построим график QQ-plot для двух выборок\n",
    "\n",
    "sm.qqplot(test_grp, line='r')"
   ]
  },
  {
   "cell_type": "code",
   "execution_count": 57,
   "metadata": {},
   "outputs": [
    {
     "data": {
      "image/png": "[encoded data removed]",
      "text/plain": [
       "<Figure size 432x288 with 1 Axes>"
      ]
     },
     "execution_count": 57,
     "metadata": {},
     "output_type": "execute_result"
    },
    {
     "data": {
      "image/png": "[encoded data removed]",
      "text/plain": [
       "<Figure size 432x288 with 1 Axes>"
      ]
     },
     "metadata": {
      "needs_background": "light"
     },
     "output_type": "display_data"
    }
   ],
   "source": [
    "sm.qqplot(control_grp, line='r')"
   ]
  },
  {
   "cell_type": "code",
   "execution_count": 58,
   "metadata": {},
   "outputs": [
    {
     "name": "stdout",
     "output_type": "stream",
     "text": [
      "ShapiroResult(statistic=0.7353236079216003, pvalue=1.4986822893803264e-10)\n",
      "ShapiroResult(statistic=0.8547235727310181, pvalue=1.5437024585965894e-16)\n"
     ]
    }
   ],
   "source": [
    "# 3.2.4 Посмотрим, что покажет тест Шапиро-Уилко на нормальность\n",
    "\n",
    "print(shapiro(control_grp))\n",
    "print(shapiro(test_grp))"
   ]
  },
  {
   "cell_type": "markdown",
   "metadata": {},
   "source": [
    "Мы видим, что, как на графиках qq-plot, так и при тесте Шапиро, результаты ведут к тому, что распределения наших обоих выборок не близко к нормальному."
   ]
  },
  {
   "cell_type": "code",
   "execution_count": 59,
   "metadata": {},
   "outputs": [
    {
     "data": {
      "text/plain": [
       "LeveneResult(statistic=3.0756816999816055, pvalue=0.08025675761347022)"
      ]
     },
     "execution_count": 59,
     "metadata": {},
     "output_type": "execute_result"
    }
   ],
   "source": [
    "# 3.2.5 Проверим требование к гомогенности дисперсий\n",
    "\n",
    "levene(control_grp, test_grp)"
   ]
  },
  {
   "cell_type": "markdown",
   "metadata": {},
   "source": [
    "Так как требования к **t-тесту** практически не соблюдаются, то целесообразно будет использовать либо непараметрический аналог **t-теста**, а именно **критерий Манна-Уитни**, либо **Бутстрап**.\n",
    "\n",
    "Я бы предпочел использовать **Бутстрап**, так как, с точки зрения бизнеса, результат **Манна-Уитни** тяжело интерпретировать."
   ]
  },
  {
   "cell_type": "code",
   "execution_count": 60,
   "metadata": {},
   "outputs": [],
   "source": [
    "# 3.2.6 Напишем функцию Бутстрапа\n",
    "\n",
    "def get_bootstrap(\n",
    "    data_column_1, # числовые значения первой выборки\n",
    "    data_column_2, # числовые значения второй выборки\n",
    "    boot_iter = 2000, # количество бутстрап-выборок\n",
    "    statistic = np.mean, # интересующая статистика\n",
    "    bootstrap_conf_level = 0.95 # уровень значимости\n",
    "):\n",
    "    boot_len = max(len(data_column_1), len(data_column_2))\n",
    "    boot_data = []\n",
    "    for i in range(boot_iter): # извлекаем подвыборки\n",
    "        samples_1 = data_column_1.sample(\n",
    "            boot_len,\n",
    "            replace=True # параметр возвращения\n",
    "        ).values\n",
    "        \n",
    "        samples_2 = data_column_2.sample(\n",
    "            boot_len,\n",
    "            replace=True\n",
    "        ).values\n",
    "        \n",
    "        boot_data.append(statistic(samples_1 - samples_2))\n",
    "        \n",
    "    pd_boot_data = pd.DataFrame(boot_data)\n",
    "    \n",
    "    left_quant = (1 - bootstrap_conf_level) / 2\n",
    "    right_quant = 1 - (1 - bootstrap_conf_level) / 2\n",
    "    ci = pd_boot_data.quantile([left_quant, right_quant])\n",
    "    \n",
    "    p_1 = norm.cdf(\n",
    "        x = 0,\n",
    "        loc = np.mean(boot_data),\n",
    "        scale = np.std(boot_data))\n",
    "    \n",
    "    p_2 = norm.cdf(\n",
    "        x = 0,\n",
    "        loc = -np.mean(boot_data),\n",
    "        scale = np.std(boot_data))\n",
    "    \n",
    "    p_value = min(p_1, p_2) * 2\n",
    "    \n",
    "    # Визуализация\n",
    "    plt.hist(pd_boot_data[0], bins=50)\n",
    "    \n",
    "    plt.style.use('ggplot')\n",
    "    plt.vlines(ci, ymin=0, ymax=50, linestyle='--')\n",
    "    plt.xlabel('boot_data')\n",
    "    plt.ylabel('frequency')\n",
    "    plt.title('Histogram of boot_data')\n",
    "    plt.show()\n",
    "    \n",
    "    return {'boot_data': boot_data,\n",
    "            'ci': ci,\n",
    "            'p_value': p_value}"
   ]
  },
  {
   "cell_type": "code",
   "execution_count": 61,
   "metadata": {
    "scrolled": false
   },
   "outputs": [
    {
     "data": {
      "image/png": "[encoded data removed]",
      "text/plain": [
       "<Figure size 432x288 with 1 Axes>"
      ]
     },
     "metadata": {
      "needs_background": "light"
     },
     "output_type": "display_data"
    }
   ],
   "source": [
    "# 3.2.7 Инициализируем наш Бутстрап\n",
    "\n",
    "boot_test = get_bootstrap(test_grp, control_grp, boot_iter=2000)"
   ]
  },
  {
   "cell_type": "code",
   "execution_count": 62,
   "metadata": {},
   "outputs": [
    {
     "data": {
      "text/html": [
       "<div>\n",
       "<style scoped>\n",
       "    .dataframe tbody tr th:only-of-type {\n",
       "        vertical-align: middle;\n",
       "    }\n",
       "\n",
       "    .dataframe tbody tr th {\n",
       "        vertical-align: top;\n",
       "    }\n",
       "\n",
       "    .dataframe thead th {\n",
       "        text-align: right;\n",
       "    }\n",
       "</style>\n",
       "<table border=\"1\" class=\"dataframe\">\n",
       "  <thead>\n",
       "    <tr style=\"text-align: right;\">\n",
       "      <th></th>\n",
       "      <th>0</th>\n",
       "    </tr>\n",
       "  </thead>\n",
       "  <tbody>\n",
       "    <tr>\n",
       "      <th>0.025</th>\n",
       "      <td>196.852161</td>\n",
       "    </tr>\n",
       "    <tr>\n",
       "      <th>0.975</th>\n",
       "      <td>458.671189</td>\n",
       "    </tr>\n",
       "  </tbody>\n",
       "</table>\n",
       "</div>"
      ],
      "text/plain": [
       "                0\n",
       "0.025  196.852161\n",
       "0.975  458.671189"
      ]
     },
     "execution_count": 62,
     "metadata": {},
     "output_type": "execute_result"
    }
   ],
   "source": [
    "# 3.2.8 Посмотрим на наши доверительные интервалы\n",
    "\n",
    "boot_test['ci']"
   ]
  },
  {
   "cell_type": "code",
   "execution_count": 63,
   "metadata": {},
   "outputs": [
    {
     "data": {
      "text/plain": [
       "1.7862748262696082e-06"
      ]
     },
     "execution_count": 63,
     "metadata": {},
     "output_type": "execute_result"
    }
   ],
   "source": [
    "# 3.2.9 Взглянем на p-value\n",
    "\n",
    "boot_test['p_value']"
   ]
  },
  {
   "cell_type": "markdown",
   "metadata": {},
   "source": [
    "Так как p-значение значительно меньше 0.05 и в доверительные интервалы не входит 0, мы можем сказать, что различия в средних наших выборок есть и они стат.значимы. С точки зрения бизнеса, это можно интерпретировать, как то, что наша новая механика оплаты влияет на то, сколько пользователь решит потратить на покупку."
   ]
  },
  {
   "cell_type": "markdown",
   "metadata": {},
   "source": [
    "Для интереса, также взглянем на результат теста Манна-Уитни"
   ]
  },
  {
   "cell_type": "code",
   "execution_count": 64,
   "metadata": {},
   "outputs": [
    {
     "data": {
      "text/plain": [
       "MannwhitneyuResult(statistic=9001.0, pvalue=0.0002511393831406922)"
      ]
     },
     "execution_count": 64,
     "metadata": {},
     "output_type": "execute_result"
    }
   ],
   "source": [
    "# 3.2.10 Тест Манна-Уитни так же показывает стат.значимое различие\n",
    "\n",
    "mannwhitneyu(control_grp, test_grp)"
   ]
  },
  {
   "cell_type": "markdown",
   "metadata": {},
   "source": [
    "Результат U-теста Манна-Уитни показывает, что, скорее всего, распределения суммы покупок наших двух групп не совпадают, и это разница стат.значима."
   ]
  },
  {
   "cell_type": "markdown",
   "metadata": {},
   "source": [
    "#### 3.3 Среднее значение суммы покупки для двух групп, учитывая всех пользователей, участвовавших в день проведения эксперимента (ARPU)"
   ]
  },
  {
   "cell_type": "markdown",
   "metadata": {},
   "source": [
    "В данном случае нам нужно завести новую таблицу, которая будет учитывать всех пользователей, вошедших на сайт в день проведения эксперимента, и сумму их покупок (если пользователь ничего не купил, то его сумма покупок будет 0)."
   ]
  },
  {
   "cell_type": "code",
   "execution_count": 65,
   "metadata": {},
   "outputs": [],
   "source": [
    "# 3.3.1 Создадим новую таблицу и заполним значения NaN нулями\n",
    "\n",
    "users_for_arpu = active_studs_with_groups.merge(checks[['student_id', 'rev']],\n",
    "                                                on='student_id',\n",
    "                                                how='left')\n",
    "\n",
    "users_for_arpu = users_for_arpu.fillna(0)"
   ]
  },
  {
   "cell_type": "code",
   "execution_count": 66,
   "metadata": {
    "scrolled": true
   },
   "outputs": [
    {
     "data": {
      "text/html": [
       "<div>\n",
       "<style scoped>\n",
       "    .dataframe tbody tr th:only-of-type {\n",
       "        vertical-align: middle;\n",
       "    }\n",
       "\n",
       "    .dataframe tbody tr th {\n",
       "        vertical-align: top;\n",
       "    }\n",
       "\n",
       "    .dataframe thead th {\n",
       "        text-align: right;\n",
       "    }\n",
       "</style>\n",
       "<table border=\"1\" class=\"dataframe\">\n",
       "  <thead>\n",
       "    <tr style=\"text-align: right;\">\n",
       "      <th></th>\n",
       "      <th>student_id</th>\n",
       "      <th>grp</th>\n",
       "      <th>rev</th>\n",
       "    </tr>\n",
       "  </thead>\n",
       "  <tbody>\n",
       "    <tr>\n",
       "      <th>0</th>\n",
       "      <td>581585</td>\n",
       "      <td>A</td>\n",
       "      <td>0.0</td>\n",
       "    </tr>\n",
       "    <tr>\n",
       "      <th>1</th>\n",
       "      <td>5723133</td>\n",
       "      <td>A</td>\n",
       "      <td>0.0</td>\n",
       "    </tr>\n",
       "    <tr>\n",
       "      <th>2</th>\n",
       "      <td>3276743</td>\n",
       "      <td>B</td>\n",
       "      <td>0.0</td>\n",
       "    </tr>\n",
       "    <tr>\n",
       "      <th>3</th>\n",
       "      <td>4238589</td>\n",
       "      <td>A</td>\n",
       "      <td>0.0</td>\n",
       "    </tr>\n",
       "    <tr>\n",
       "      <th>4</th>\n",
       "      <td>4475369</td>\n",
       "      <td>B</td>\n",
       "      <td>0.0</td>\n",
       "    </tr>\n",
       "  </tbody>\n",
       "</table>\n",
       "</div>"
      ],
      "text/plain": [
       "   student_id grp  rev\n",
       "0      581585   A  0.0\n",
       "1     5723133   A  0.0\n",
       "2     3276743   B  0.0\n",
       "3     4238589   A  0.0\n",
       "4     4475369   B  0.0"
      ]
     },
     "execution_count": 66,
     "metadata": {},
     "output_type": "execute_result"
    }
   ],
   "source": [
    "users_for_arpu.head()"
   ]
  },
  {
   "cell_type": "code",
   "execution_count": 67,
   "metadata": {},
   "outputs": [
    {
     "data": {
      "text/plain": [
       "<matplotlib.axes._subplots.AxesSubplot at 0x7f52158c4128>"
      ]
     },
     "execution_count": 67,
     "metadata": {},
     "output_type": "execute_result"
    },
    {
     "data": {
      "image/png": "[encoded data removed]",
      "text/plain": [
       "<Figure size 432x288 with 1 Axes>"
      ]
     },
     "metadata": {},
     "output_type": "display_data"
    }
   ],
   "source": [
    "# 3.3.2 Посмотрим на распределение суммы покупок в обеих группах\n",
    "\n",
    "sns.histplot(x='rev',\n",
    "             data=users_for_arpu,\n",
    "             hue='grp',\n",
    "             bins=15)"
   ]
  },
  {
   "cell_type": "markdown",
   "metadata": {},
   "source": [
    "После того, как мы соединили таблицы *active_studs_with_groups* и *checks*, в нашей гистограмме стало заметно больше \"непокупок\". Это значит, что, на самом деле, очень незначительное количество пользователей (и с контрольной, и с тестовой группы) совершили покупку в день эксперимента."
   ]
  },
  {
   "cell_type": "markdown",
   "metadata": {},
   "source": [
    "В любом случае, разделим наши данные на 2 группы и проверим результат по **bootstrap**."
   ]
  },
  {
   "cell_type": "code",
   "execution_count": 68,
   "metadata": {},
   "outputs": [],
   "source": [
    "# 3.3.3 Разделим данные на группу А и В\n",
    "\n",
    "control_group_2 = users_for_arpu[users_for_arpu['grp'] == 'A'].rev\n",
    "test_group_2 = users_for_arpu[users_for_arpu['grp'] == 'B'].rev"
   ]
  },
  {
   "cell_type": "code",
   "execution_count": 69,
   "metadata": {},
   "outputs": [
    {
     "data": {
      "image/png": "[encoded data removed]",
      "text/plain": [
       "<Figure size 432x288 with 1 Axes>"
      ]
     },
     "metadata": {},
     "output_type": "display_data"
    }
   ],
   "source": [
    "# 3.3.4 Проведем бутстрап по этим выборкам\n",
    "\n",
    "boot_test_2 = get_bootstrap(test_group_2, control_group_2, \n",
    "                            boot_iter=2000)"
   ]
  },
  {
   "cell_type": "code",
   "execution_count": 70,
   "metadata": {},
   "outputs": [
    {
     "data": {
      "text/html": [
       "<div>\n",
       "<style scoped>\n",
       "    .dataframe tbody tr th:only-of-type {\n",
       "        vertical-align: middle;\n",
       "    }\n",
       "\n",
       "    .dataframe tbody tr th {\n",
       "        vertical-align: top;\n",
       "    }\n",
       "\n",
       "    .dataframe thead th {\n",
       "        text-align: right;\n",
       "    }\n",
       "</style>\n",
       "<table border=\"1\" class=\"dataframe\">\n",
       "  <thead>\n",
       "    <tr style=\"text-align: right;\">\n",
       "      <th></th>\n",
       "      <th>0</th>\n",
       "    </tr>\n",
       "  </thead>\n",
       "  <tbody>\n",
       "    <tr>\n",
       "      <th>0.025</th>\n",
       "      <td>0.102169</td>\n",
       "    </tr>\n",
       "    <tr>\n",
       "      <th>0.975</th>\n",
       "      <td>20.679241</td>\n",
       "    </tr>\n",
       "  </tbody>\n",
       "</table>\n",
       "</div>"
      ],
      "text/plain": [
       "               0\n",
       "0.025   0.102169\n",
       "0.975  20.679241"
      ]
     },
     "execution_count": 70,
     "metadata": {},
     "output_type": "execute_result"
    }
   ],
   "source": [
    "# 3.3.5 Посмотрим на наши доверительные интервалы\n",
    "\n",
    "boot_test_2['ci']"
   ]
  },
  {
   "cell_type": "code",
   "execution_count": 71,
   "metadata": {},
   "outputs": [
    {
     "data": {
      "text/plain": [
       "0.04073209251727244"
      ]
     },
     "execution_count": 71,
     "metadata": {},
     "output_type": "execute_result"
    }
   ],
   "source": [
    "# 3.3.6 Взглянем на p-value\n",
    "\n",
    "boot_test_2['p_value']"
   ]
  },
  {
   "cell_type": "markdown",
   "metadata": {},
   "source": [
    "Как мы видим, в доверительный интервал не входит нулевое значение, хотя оно и довольно близко. Также p-value показывает результат ниже 5%, что позволяет нам утверждать, что средние в двух группах отличаются стат.значимо."
   ]
  },
  {
   "cell_type": "markdown",
   "metadata": {},
   "source": [
    "### Итог по задаче 1:\n",
    "\n",
    "Мы провели предварительный анализ наших данных. В наших данных не было никаких дефектов, поэтому мы сразу приступили к следующей части. Мы обработали данные и привели их в нужный для нас вид.\n",
    "\n",
    "Для сравнения и тестирования мы решили взять такие показатели, как **CR в покупку, ARPPU** и **ARPU**. При тестировании **конверсии** с помощью критерия *Хи-квадрат* результат не дал стат.значимых различий. Однако, при сравнении **ARPPU** и **ARPU** мы получили результат, который показывает, что эти показатели стат.значимо отличаются в контрольной и тестовой группах.\n",
    "\n",
    "\n",
    "\n",
    "В результате, мы можем утвердить новую механику оплаты услуг на сайте и ожидать, что благодаря ней мы сможем увеличить средний чек наших покупателей."
   ]
  },
  {
   "cell_type": "markdown",
   "metadata": {},
   "source": [
    "# Задача 2 — SQL"
   ]
  },
  {
   "cell_type": "markdown",
   "metadata": {},
   "source": [
    "##### 2.1 Усердные ученики"
   ]
  },
  {
   "cell_type": "markdown",
   "metadata": {},
   "source": [
    "Образовательные курсы состоят из различных уроков, каждый из которых состоит из нескольких маленьких заданий. Каждое такое маленькое задание называется \"горошиной\".\n",
    "\n",
    "Назовём очень усердным учеником того пользователя, который хотя бы раз за текущий месяц правильно решил 20 горошин."
   ]
  },
  {
   "cell_type": "code",
   "execution_count": 75,
   "metadata": {},
   "outputs": [
    {
     "data": {
      "text/plain": [
       "'\\nSELECT\\n    COUNT(*)\\nFROM\\n    (SELECT \\n        st_id,\\n        SUM(correct)\\n    FROM peas\\n    WHERE\\n        toStartOfMonth(timest) == toStartOfMonth(now())\\n    GROUP BY\\n        st_id\\n    HAVING\\n        SUM(correct) >= 20)\\n'"
      ]
     },
     "execution_count": 75,
     "metadata": {},
     "output_type": "execute_result"
    }
   ],
   "source": [
    "\"\"\"\n",
    "SELECT\n",
    "    COUNT(*)\n",
    "FROM\n",
    "    (SELECT \n",
    "        st_id,\n",
    "        SUM(correct)\n",
    "    FROM peas\n",
    "    WHERE\n",
    "        toStartOfMonth(timest) == toStartOfMonth(now())\n",
    "    GROUP BY\n",
    "        st_id\n",
    "    HAVING\n",
    "        SUM(correct) >= 20)\n",
    "\"\"\""
   ]
  },
  {
   "cell_type": "markdown",
   "metadata": {},
   "source": [
    "##### 2.2 Оптимизация воронки"
   ]
  },
  {
   "cell_type": "markdown",
   "metadata": {},
   "source": [
    "Образовательная платформа предлагает пройти студентам курсы по модели trial: студент может решить бесплатно лишь 30 горошин в день. Для неограниченного количества заданий в определенной дисциплине студенту необходимо приобрести полный доступ. Команда провела эксперимент, где был протестирован новый экран оплаты.\n",
    "\n",
    "Необходимо в одном запросе выгрузить следующую информацию о группах пользователей:\n",
    "\n",
    "- ARPU\n",
    "\n",
    "- ARPAU\n",
    "\n",
    "- CR в покупку\n",
    "\n",
    "- СR активного пользователя в покупку \n",
    "\n",
    "- CR пользователя из активности по математике (subject = ’math’) в покупку курса по математике\n",
    "\n",
    "ARPU считается относительно всех пользователей, попавших в группы.\n",
    "\n",
    "Активным считается пользователь, за все время решивший больше 10 задач правильно в любых дисциплинах.\n",
    "\n",
    "Активным по математике считается пользователь, за все время решивший 2 или больше задач правильно по математике."
   ]
  },
  {
   "cell_type": "code",
   "execution_count": 1,
   "metadata": {},
   "outputs": [
    {
     "data": {
      "text/plain": [
       "\"\\nSELECT\\n    test_grp,\\n    sum(total_revenue) / uniqExact(st_id) as ARPU,\\n    sumIf(total_revenue, active_stud=1) / uniqExactIf(st_id, active_stud=1) as ARPAU,\\n    uniqExactIf(st_id, total_revenue > 0) / uniqExact(st_id) as CR_to_buy,\\n    uniqExactIf(st_id, active_stud=1 and total_revenue>0) / uniqExactIf(st_id, active_stud=1) as CR_active_to_buy,\\n    uniqExactIf(st_id, math_active_stud=1 and math_revenue>0) / uniqExactIf(st_id, math_active_stud=1) as CR_math_active_to_buy_math\\nFROM\\n    (\\n    SELECT \\n        l.test_grp as test_grp,\\n        l.st_id as st_id,\\n        r.active_stud as active_stud,\\n        r.math_active_stud as math_active_stud,\\n        r.total_revenue as total_revenue,\\n        r.math_revenue as math_revenue\\n    FROM\\n        (\\n        SELECT\\n            test_grp,\\n            st_id\\n        FROM studs\\n        ) as l\\n    LEFT JOIN\\n        (\\n        SELECT\\n            l.st_id as st_id,\\n            l.active_stud as active_stud,\\n            l.math_active_stud as math_active_stud,\\n            r.total_revenue as total_revenue,\\n            r.math_revenue as math_revenue\\n        FROM\\n            (\\n            SELECT\\n                st_id,\\n                if (sum(correct) > 10, 1, 0) as active_stud,\\n                if (sumIf(correct, subject='Math') >= 2, 1, 0) as math_active_stud\\n            FROM peas\\n            GROUP BY\\n                st_id\\n            ) as l\\n        LEFT JOIN\\n            (\\n            select\\n                st_id,\\n                sum(money) as total_revenue,\\n                sumIf(money, subject='Math') as math_revenue\\n            from final_project_check\\n            group by st_id\\n            ) as r\\n        ON l.st_id = r.st_id\\n        ) as r\\n    ON l.st_id = r.st_id\\n    )\\nGROUP BY\\n    test_grp\\n\""
      ]
     },
     "execution_count": 1,
     "metadata": {},
     "output_type": "execute_result"
    }
   ],
   "source": [
    "'''\n",
    "SELECT\n",
    "    test_grp,\n",
    "    sum(total_revenue) / uniqExact(st_id) as ARPU,\n",
    "    sumIf(total_revenue, active_stud=1) / uniqExactIf(st_id, active_stud=1) as ARPAU,\n",
    "    uniqExactIf(st_id, total_revenue > 0) / uniqExact(st_id) as CR_to_buy,\n",
    "    uniqExactIf(st_id, active_stud=1 and total_revenue>0) / uniqExactIf(st_id, active_stud=1) as CR_active_to_buy,\n",
    "    uniqExactIf(st_id, math_active_stud=1 and math_revenue>0) / uniqExactIf(st_id, math_active_stud=1) as CR_math_active_to_buy_math\n",
    "FROM\n",
    "    (\n",
    "    SELECT \n",
    "        l.test_grp as test_grp,\n",
    "        l.st_id as st_id,\n",
    "        r.active_stud as active_stud,\n",
    "        r.math_active_stud as math_active_stud,\n",
    "        r.total_revenue as total_revenue,\n",
    "        r.math_revenue as math_revenue\n",
    "    FROM\n",
    "        (\n",
    "        SELECT\n",
    "            test_grp,\n",
    "            st_id\n",
    "        FROM studs\n",
    "        ) as l\n",
    "    LEFT JOIN\n",
    "        (\n",
    "        SELECT\n",
    "            l.st_id as st_id,\n",
    "            l.active_stud as active_stud,\n",
    "            l.math_active_stud as math_active_stud,\n",
    "            r.total_revenue as total_revenue,\n",
    "            r.math_revenue as math_revenue\n",
    "        FROM\n",
    "            (\n",
    "            SELECT\n",
    "                st_id,\n",
    "                if (sum(correct) > 10, 1, 0) as active_stud,\n",
    "                if (sumIf(correct, subject='Math') >= 2, 1, 0) as math_active_stud\n",
    "            FROM peas\n",
    "            GROUP BY\n",
    "                st_id\n",
    "            ) as l\n",
    "        LEFT JOIN\n",
    "            (\n",
    "            select\n",
    "                st_id,\n",
    "                sum(money) as total_revenue,\n",
    "                sumIf(money, subject='Math') as math_revenue\n",
    "            from final_project_check\n",
    "            group by st_id\n",
    "            ) as r\n",
    "        ON l.st_id = r.st_id\n",
    "        ) as r\n",
    "    ON l.st_id = r.st_id\n",
    "    )\n",
    "GROUP BY\n",
    "    test_grp\n",
    "'''"
   ]
  },
  {
   "cell_type": "markdown",
   "metadata": {},
   "source": [
    "# Задача 3 — Python Function"
   ]
  },
  {
   "cell_type": "markdown",
   "metadata": {},
   "source": [
    "##### Условие:"
   ]
  },
  {
   "cell_type": "markdown",
   "metadata": {},
   "source": [
    "Реализуйте функцию, которая будет автоматически подгружать информацию из дополнительного файла *groups_add.csv* (заголовки могут отличаться) и на основании дополнительных параметров пересчитывать метрики.\n",
    "\n",
    "Реализуйте функцию, которая будет строить графики по получаемым метрикам."
   ]
  },
  {
   "cell_type": "code",
   "execution_count": 144,
   "metadata": {},
   "outputs": [],
   "source": [
    "def update_metrics(initial_df, new_df):\n",
    "    \n",
    "    # Заменим названия колонок на случае, если они не совпадают с стандартными названиями\n",
    "    new_columns = {new_df.columns[0]: 'id',\n",
    "                   new_df.columns[1]: 'grp'}\n",
    "    new_df = new_df.rename(columns=new_columns)\n",
    "    \n",
    "    # Соединим изначальную таблицу с новой\n",
    "    total_df = pd.concat([initial_df, new_df])\n",
    "    \n",
    "    # Сделаем копию таблицы вошедших в день эксперимента пользователей с их группами\n",
    "    active_studs_w_grps = active_studs_with_groups.copy()\n",
    "    active_studs_w_grps = active_studs_w_grps.rename(columns={'student_id': 'id'})\n",
    "    active_studs_w_grps['is_entry'] = 1\n",
    "    \n",
    "    # Создадим общую таблицу для расчета конверсии в открытие сайта\n",
    "    CR_entry_df = total_df.merge(active_studs_w_grps,\n",
    "                                 on=['id', 'grp'],\n",
    "                                 how='left')\n",
    "    CR_entry_df = CR_entry_df.fillna(0)\n",
    "    CR_entry_df['is_entry'] = CR_entry_df['is_entry'].astype('int')\n",
    "    \n",
    "    # Разделим данные на контрольную и тестовую группу\n",
    "    a_cr_entry = CR_entry_df[CR_entry_df['grp'] == 'A']\n",
    "    b_cr_entry = CR_entry_df[CR_entry_df['grp'] == 'B']\n",
    "    \n",
    "    # Посчитаем CR в открытие сайта для обеих групп\n",
    "    a_cr_entry_yes = a_cr_entry.is_entry.sum()\n",
    "    a_cr_entry_no = a_cr_entry.is_entry.size - a_cr_entry.is_entry.sum()\n",
    "    b_cr_entry_yes = b_cr_entry.is_entry.sum()\n",
    "    b_cr_entry_no = b_cr_entry.is_entry.size - b_cr_entry.is_entry.sum()\n",
    "    \n",
    "    a_cr_entry_result = round(a_cr_entry_yes / (a_cr_entry_yes + a_cr_entry_no) * 100, 3)\n",
    "    b_cr_entry_result = round(b_cr_entry_yes / (b_cr_entry_yes + b_cr_entry_no) * 100, 3)\n",
    "    \n",
    "    #Создадим таблицу для расчета CR в покупку\n",
    "    CR_pay_active_studs = active_studs.merge(total_df,\n",
    "                                   left_on='student_id',\n",
    "                                   right_on='id')\n",
    "    CR_pay_active_studs = CR_pay_active_studs.drop('id', axis=1)\n",
    "    \n",
    "    checks_for_CR_pay = checks.copy()\n",
    "    checks_for_CR_pay = checks_for_CR_pay.merge(total_df,\n",
    "                                            left_on='student_id',\n",
    "                                            right_on='id',\n",
    "                                            how='left')\n",
    "    checks_for_CR_pay = checks_for_CR_pay.drop(['rev', 'id'], axis=1)\n",
    "    \n",
    "    CR_pay_df = CR_pay_active_studs.merge(checks_for_CR_pay,\n",
    "                                          on=['student_id', 'grp'],\n",
    "                                          how='left')\n",
    "    CR_pay_df = CR_pay_df.fillna(0)\n",
    "    CR_pay_df['is_paid'] = CR_pay_df['is_paid'].astype('int')\n",
    "    \n",
    "    # Посчитаем значения СR в покупку для обеих групп\n",
    "    a_cr_pay = CR_pay_df[CR_pay_df['grp'] == 'A']\n",
    "    b_cr_pay = CR_pay_df[CR_pay_df['grp'] == 'B']\n",
    "    \n",
    "    a_cr_pay_yes = a_cr_pay.is_paid.sum()\n",
    "    a_cr_pay_no = a_cr_pay.is_paid.size - a_cr_pay.is_paid.sum()\n",
    "    b_cr_pay_yes = b_cr_pay.is_paid.sum()\n",
    "    b_cr_pay_no = b_cr_pay.is_paid.size - b_cr_pay.is_paid.sum()\n",
    "    \n",
    "    a_cr_pay_result = round(a_cr_pay_yes / (a_cr_pay_yes + a_cr_pay_no) * 100, 3)\n",
    "    b_cr_pay_result = round(b_cr_pay_yes / (b_cr_pay_yes + b_cr_pay_no) * 100, 3)\n",
    "    \n",
    "    \n",
    "    # Создадим таблицу для расчета ARPPU\n",
    "    checks_for_metrics = checks.copy()\n",
    "    checks_for_metrics = checks_for_metrics.rename(columns={'student_id': 'id'})\n",
    "    checks_for_metrics = checks_for_metrics[['id', 'rev']]\n",
    "    active_studs_with_grp_rev = active_studs_w_grps.drop('is_entry', axis=1).merge(checks_for_metrics,\n",
    "                                                                                   on='id',\n",
    "                                                                                   how='inner')\n",
    "    \n",
    "    # Посчитаем значения ARPPU для обеих групп\n",
    "    ARPPU_df_grp_A = active_studs_with_grp_rev[active_studs_with_grp_rev['grp'] == 'A']\n",
    "    ARPPU_df_grp_B = active_studs_with_grp_rev[active_studs_with_grp_rev['grp'] == 'B']\n",
    "    ARPPU_grp_A_result = round(ARPPU_df_grp_A.rev.sum() / ARPPU_df_grp_A.rev.size, 2)\n",
    "    ARPPU_grp_B_result = round(ARPPU_df_grp_B.rev.sum() / ARPPU_df_grp_B.rev.size, 2)\n",
    "    \n",
    "    #Создадим таблицу для расчета ARPU\n",
    "    ARPU_df = total_df.merge(active_studs_with_grp_rev,\n",
    "                             on=['id', 'grp'],\n",
    "                             how='left')\n",
    "    ARPU_df = ARPU_df.fillna(0)\n",
    "    \n",
    "    #Посчитаем ARPU для обеих групп\n",
    "    ARPU_df_grp_A = ARPU_df[ARPU_df['grp'] == 'A']\n",
    "    ARPU_df_grp_B = ARPU_df[ARPU_df['grp'] == 'B']\n",
    "    ARPU_grp_A_result =  round(ARPU_df_grp_A.rev.sum() / ARPU_df_grp_A.rev.size, 2)\n",
    "    ARPU_grp_B_result =  round(ARPU_df_grp_B.rev.sum() / ARPU_df_grp_B.rev.size, 2)\n",
    "    \n",
    "    print(f'Конверсия в открытие сайта для контрольной (А) группы: {a_cr_entry_result} %')\n",
    "    print(f'Конверсия в открытие сайта для тестовой (В) группы: {b_cr_entry_result} %'+'\\n')\n",
    "    print(f'Конверсия в покупку для контрольной (А) группы: {a_cr_pay_result} %')\n",
    "    print(f'Конверсия в покупку для тестовой (В) группы: {b_cr_pay_result} %'+'\\n')\n",
    "    print(f'ARPPU для контрольной(А) группы: {ARPPU_grp_A_result}')\n",
    "    print(f'ARPPU для тестовой(B) группы: {ARPPU_grp_B_result}'+'\\n')\n",
    "    print(f'ARPU для контрольной(А) группы: {ARPU_grp_A_result}')\n",
    "    print(f'ARPU для тестовой(В) группы: {ARPU_grp_B_result}')\n",
    "    \n",
    "    return {'Group': ['A', 'B'],\n",
    "            'CR (to entry), %': [a_cr_entry_result, b_cr_entry_result],\n",
    "            'CR (to buy), %': [a_cr_pay_result, b_cr_pay_result],\n",
    "            'ARPPU': [ARPPU_grp_A_result, ARPPU_grp_B_result],\n",
    "            'ARPU': [ARPU_grp_A_result, ARPU_grp_B_result]}    "
   ]
  },
  {
   "cell_type": "markdown",
   "metadata": {},
   "source": [
    "Функцию для построения графиков будет написана таким образом, что для нее ожидается вход словаря (в виде выхода функции **update_metrics**)"
   ]
  },
  {
   "cell_type": "code",
   "execution_count": 150,
   "metadata": {},
   "outputs": [],
   "source": [
    "def plot_metrics(df_with_metrics):\n",
    "    \n",
    "    # В функцию подаем словарь с нашими значениями метрик для контрольной и тестовой групп\n",
    "    plot_df = pd.DataFrame(df_with_metrics)\n",
    "    \n",
    "    sns.set_context('poster')\n",
    "    fig, axes = plt.subplots(1, 4, sharex=True, figsize=(10, 5))\n",
    "    plt.tight_layout()\n",
    "    fig.suptitle(f'Metrics review as of {datetime.now().strftime(\"%Y-%m-%d %H:%M\")}')\n",
    "\n",
    "    sns.scatterplot(ax=axes[0], y='CR (to entry), %', x='Group', data=plot_df, hue='Group', legend=False)\n",
    "    \n",
    "    sns.scatterplot(ax=axes[1], y='CR (to buy), %', x='Group', data=plot_df, hue='Group', legend=False)\n",
    "\n",
    "    sns.scatterplot(ax=axes[2], y='ARPPU', x='Group', data=plot_df, hue='Group', legend=False)\n",
    "\n",
    "    sns.scatterplot(ax=axes[3], y='ARPU', x='Group', data=plot_df, hue='Group', legend=False)"
   ]
  },
  {
   "cell_type": "markdown",
   "metadata": {},
   "source": [
    "Проверим на наших таблицах *groups* и *groups_add*"
   ]
  },
  {
   "cell_type": "code",
   "execution_count": 151,
   "metadata": {
    "scrolled": false
   },
   "outputs": [
    {
     "name": "stdout",
     "output_type": "stream",
     "text": [
      "Конверсия в открытие сайта для контрольной (А) группы: 10.468 %\n",
      "Конверсия в открытие сайта для тестовой (В) группы: 11.36 %\n",
      "\n",
      "Конверсия в покупку для контрольной (А) группы: 5.072 %\n",
      "Конверсия в покупку для тестовой (В) группы: 4.616 %\n",
      "\n",
      "ARPPU для контрольной(А) группы: 933.59\n",
      "ARPPU для тестовой(B) группы: 1257.88\n",
      "\n",
      "ARPU для контрольной(А) группы: 4.96\n",
      "ARPU для тестовой(В) группы: 6.6\n"
     ]
    },
    {
     "data": {
      "image/png": "[encoded data removed]",
      "text/plain": [
       "<Figure size 720x360 with 4 Axes>"
      ]
     },
     "metadata": {},
     "output_type": "display_data"
    }
   ],
   "source": [
    "plot_metrics(update_metrics(groups, groups_add))"
   ]
  }
 ],
 "metadata": {
  "kernelspec": {
   "display_name": "Python 3",
   "language": "python",
   "name": "python3"
  },
  "language_info": {
   "codemirror_mode": {
    "name": "ipython",
    "version": 3
   },
   "file_extension": ".py",
   "mimetype": "text/x-python",
   "name": "python",
   "nbconvert_exporter": "python",
   "pygments_lexer": "ipython3",
   "version": "3.7.3"
  }
 },
 "nbformat": 4,
 "nbformat_minor": 4
}

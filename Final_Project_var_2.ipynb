{
 "cells": [
  {
   "cell_type": "code",
   "execution_count": 61,
   "metadata": {},
   "outputs": [],
   "source": [
    "# Импорт необходимых библиотек\n",
    "\n",
    "import pandas as pd\n",
    "import numpy as np\n",
    "import matplotlib.pyplot as plt\n",
    "import seaborn as sns\n",
    "import requests\n",
    "from urllib.parse import urlencode \n",
    "from scipy.stats import norm, mannwhitneyu, ttest_ind, shapiro, levene\n",
    "import statsmodels.api as sm\n",
    "\n",
    "%matplotlib inline"
   ]
  },
  {
   "cell_type": "markdown",
   "metadata": {},
   "source": [
    "# Задача 1 — A/B-testing"
   ]
  },
  {
   "cell_type": "markdown",
   "metadata": {},
   "source": [
    "## 1. Выгрузка данных"
   ]
  },
  {
   "cell_type": "markdown",
   "metadata": {},
   "source": [
    "Так как данные находятся на платформе Яндекс.Диск, то воспользуемся библиотеками \"requests\" и \"urllib\" для того, чтобы получить ссылки на скачивание данных файлов и, в дальнейшем, преобразовать их в формат Датафрейма."
   ]
  },
  {
   "cell_type": "code",
   "execution_count": 2,
   "metadata": {},
   "outputs": [],
   "source": [
    "# 1.1 Создаем базовый URL\n",
    "\n",
    "base_url = 'https://cloud-api.yandex.net/v1/disk/public/resources/download?'"
   ]
  },
  {
   "cell_type": "code",
   "execution_count": 3,
   "metadata": {},
   "outputs": [],
   "source": [
    "# 1.2 Создаем частный URL для каждой ссылки, предоставленной на платформе LMS\n",
    "\n",
    "public_key_groups = 'https://disk.yandex.ru/d/58Us0DWOzuWAjg'\n",
    "public_key_groups_add = 'https://disk.yandex.ru/d/3aARY-P9pfaksg'\n",
    "public_key_active_studs = 'https://disk.yandex.ru/d/prbgU-rZpiXVYg'\n",
    "public_key_checks = 'https://disk.yandex.ru/d/84hTmELphW2sqQ'"
   ]
  },
  {
   "cell_type": "code",
   "execution_count": 4,
   "metadata": {},
   "outputs": [],
   "source": [
    "# 1.3 Соединяем предыдущие две части\n",
    "\n",
    "final_url_groups = base_url + urlencode(dict(public_key=public_key_groups))\n",
    "final_url_groups_add = base_url + urlencode(dict(public_key=public_key_groups_add))\n",
    "final_url_active_studs = base_url + urlencode(dict(public_key=public_key_active_studs))\n",
    "final_url_checks = base_url + urlencode(dict(public_key=public_key_checks))"
   ]
  },
  {
   "cell_type": "code",
   "execution_count": 5,
   "metadata": {},
   "outputs": [],
   "source": [
    "# 1.4 Собственно создаем валидные ссылки для скачивания файлов\n",
    "\n",
    "response_groups = requests.get(final_url_groups)\n",
    "response_groups_add = requests.get(final_url_groups_add)\n",
    "response_active_studs = requests.get(final_url_active_studs)\n",
    "response_checks = requests.get(final_url_checks)"
   ]
  },
  {
   "cell_type": "code",
   "execution_count": 6,
   "metadata": {},
   "outputs": [],
   "source": [
    "download_url_groups = response_groups.json()['href']\n",
    "download_url_groups_add = response_groups_add.json()['href']\n",
    "download_url_active_studs = response_active_studs.json()['href']\n",
    "download_url_checks = response_checks.json()['href']"
   ]
  },
  {
   "cell_type": "code",
   "execution_count": 7,
   "metadata": {},
   "outputs": [],
   "source": [
    "# 1.5 Считываем данные и преобразуем наши данные в формат пандасовского датафрейма\n",
    "\n",
    "groups = pd.read_csv(download_url_groups, sep=';')\n",
    "groups_add = pd.read_csv(download_url_groups_add)\n",
    "active_studs = pd.read_csv(download_url_active_studs)\n",
    "checks = pd.read_csv(download_url_checks, sep=';')"
   ]
  },
  {
   "cell_type": "markdown",
   "metadata": {},
   "source": [
    "## 2. Предварительный анализ данных (EDA)"
   ]
  },
  {
   "cell_type": "markdown",
   "metadata": {},
   "source": [
    "Перед тем, как приступить к решению задач, нужно удостовериться, что с нашими данными все в порядке. Для этого мы проведем предварительный анализ, то есть посмотрим, есть ли в наших данных пропущенные значения, дубликаты и т.д. Пройдемся по каждому файлу."
   ]
  },
  {
   "cell_type": "markdown",
   "metadata": {},
   "source": [
    "##### groups"
   ]
  },
  {
   "cell_type": "code",
   "execution_count": 8,
   "metadata": {
    "scrolled": true
   },
   "outputs": [
    {
     "data": {
      "text/html": [
       "<div>\n",
       "<style scoped>\n",
       "    .dataframe tbody tr th:only-of-type {\n",
       "        vertical-align: middle;\n",
       "    }\n",
       "\n",
       "    .dataframe tbody tr th {\n",
       "        vertical-align: top;\n",
       "    }\n",
       "\n",
       "    .dataframe thead th {\n",
       "        text-align: right;\n",
       "    }\n",
       "</style>\n",
       "<table border=\"1\" class=\"dataframe\">\n",
       "  <thead>\n",
       "    <tr style=\"text-align: right;\">\n",
       "      <th></th>\n",
       "      <th>id</th>\n",
       "      <th>grp</th>\n",
       "    </tr>\n",
       "  </thead>\n",
       "  <tbody>\n",
       "    <tr>\n",
       "      <th>0</th>\n",
       "      <td>1489</td>\n",
       "      <td>B</td>\n",
       "    </tr>\n",
       "    <tr>\n",
       "      <th>1</th>\n",
       "      <td>1627</td>\n",
       "      <td>A</td>\n",
       "    </tr>\n",
       "    <tr>\n",
       "      <th>2</th>\n",
       "      <td>1768</td>\n",
       "      <td>B</td>\n",
       "    </tr>\n",
       "    <tr>\n",
       "      <th>3</th>\n",
       "      <td>1783</td>\n",
       "      <td>B</td>\n",
       "    </tr>\n",
       "    <tr>\n",
       "      <th>4</th>\n",
       "      <td>1794</td>\n",
       "      <td>A</td>\n",
       "    </tr>\n",
       "  </tbody>\n",
       "</table>\n",
       "</div>"
      ],
      "text/plain": [
       "     id grp\n",
       "0  1489   B\n",
       "1  1627   A\n",
       "2  1768   B\n",
       "3  1783   B\n",
       "4  1794   A"
      ]
     },
     "execution_count": 8,
     "metadata": {},
     "output_type": "execute_result"
    }
   ],
   "source": [
    "groups.head()"
   ]
  },
  {
   "cell_type": "code",
   "execution_count": 9,
   "metadata": {},
   "outputs": [
    {
     "data": {
      "text/plain": [
       "id      int64\n",
       "grp    object\n",
       "dtype: object"
      ]
     },
     "execution_count": 9,
     "metadata": {},
     "output_type": "execute_result"
    }
   ],
   "source": [
    "groups.dtypes"
   ]
  },
  {
   "cell_type": "code",
   "execution_count": 10,
   "metadata": {},
   "outputs": [
    {
     "data": {
      "text/plain": [
       "id     0\n",
       "grp    0\n",
       "dtype: int64"
      ]
     },
     "execution_count": 10,
     "metadata": {},
     "output_type": "execute_result"
    }
   ],
   "source": [
    "groups.isna().sum()"
   ]
  },
  {
   "cell_type": "code",
   "execution_count": 11,
   "metadata": {},
   "outputs": [
    {
     "data": {
      "text/plain": [
       "0"
      ]
     },
     "execution_count": 11,
     "metadata": {},
     "output_type": "execute_result"
    }
   ],
   "source": [
    "groups.duplicated(subset=['id']).sum()"
   ]
  },
  {
   "cell_type": "markdown",
   "metadata": {},
   "source": [
    "##### groups_add"
   ]
  },
  {
   "cell_type": "code",
   "execution_count": 12,
   "metadata": {
    "scrolled": false
   },
   "outputs": [
    {
     "data": {
      "text/html": [
       "<div>\n",
       "<style scoped>\n",
       "    .dataframe tbody tr th:only-of-type {\n",
       "        vertical-align: middle;\n",
       "    }\n",
       "\n",
       "    .dataframe tbody tr th {\n",
       "        vertical-align: top;\n",
       "    }\n",
       "\n",
       "    .dataframe thead th {\n",
       "        text-align: right;\n",
       "    }\n",
       "</style>\n",
       "<table border=\"1\" class=\"dataframe\">\n",
       "  <thead>\n",
       "    <tr style=\"text-align: right;\">\n",
       "      <th></th>\n",
       "      <th>id</th>\n",
       "      <th>grp</th>\n",
       "    </tr>\n",
       "  </thead>\n",
       "  <tbody>\n",
       "    <tr>\n",
       "      <th>0</th>\n",
       "      <td>5694584</td>\n",
       "      <td>B</td>\n",
       "    </tr>\n",
       "    <tr>\n",
       "      <th>1</th>\n",
       "      <td>5694830</td>\n",
       "      <td>B</td>\n",
       "    </tr>\n",
       "    <tr>\n",
       "      <th>2</th>\n",
       "      <td>5695057</td>\n",
       "      <td>B</td>\n",
       "    </tr>\n",
       "    <tr>\n",
       "      <th>3</th>\n",
       "      <td>5698872</td>\n",
       "      <td>B</td>\n",
       "    </tr>\n",
       "    <tr>\n",
       "      <th>4</th>\n",
       "      <td>5699067</td>\n",
       "      <td>B</td>\n",
       "    </tr>\n",
       "  </tbody>\n",
       "</table>\n",
       "</div>"
      ],
      "text/plain": [
       "        id grp\n",
       "0  5694584   B\n",
       "1  5694830   B\n",
       "2  5695057   B\n",
       "3  5698872   B\n",
       "4  5699067   B"
      ]
     },
     "execution_count": 12,
     "metadata": {},
     "output_type": "execute_result"
    }
   ],
   "source": [
    "groups_add.head()"
   ]
  },
  {
   "cell_type": "code",
   "execution_count": 13,
   "metadata": {},
   "outputs": [
    {
     "data": {
      "text/plain": [
       "id      int64\n",
       "grp    object\n",
       "dtype: object"
      ]
     },
     "execution_count": 13,
     "metadata": {},
     "output_type": "execute_result"
    }
   ],
   "source": [
    "groups_add.dtypes"
   ]
  },
  {
   "cell_type": "code",
   "execution_count": 14,
   "metadata": {},
   "outputs": [
    {
     "data": {
      "text/plain": [
       "id     0\n",
       "grp    0\n",
       "dtype: int64"
      ]
     },
     "execution_count": 14,
     "metadata": {},
     "output_type": "execute_result"
    }
   ],
   "source": [
    "groups_add.isna().sum()"
   ]
  },
  {
   "cell_type": "code",
   "execution_count": 15,
   "metadata": {},
   "outputs": [
    {
     "data": {
      "text/plain": [
       "0"
      ]
     },
     "execution_count": 15,
     "metadata": {},
     "output_type": "execute_result"
    }
   ],
   "source": [
    "groups_add.duplicated(subset=['id']).sum()"
   ]
  },
  {
   "cell_type": "markdown",
   "metadata": {},
   "source": [
    "##### active_studs"
   ]
  },
  {
   "cell_type": "code",
   "execution_count": 16,
   "metadata": {},
   "outputs": [
    {
     "data": {
      "text/html": [
       "<div>\n",
       "<style scoped>\n",
       "    .dataframe tbody tr th:only-of-type {\n",
       "        vertical-align: middle;\n",
       "    }\n",
       "\n",
       "    .dataframe tbody tr th {\n",
       "        vertical-align: top;\n",
       "    }\n",
       "\n",
       "    .dataframe thead th {\n",
       "        text-align: right;\n",
       "    }\n",
       "</style>\n",
       "<table border=\"1\" class=\"dataframe\">\n",
       "  <thead>\n",
       "    <tr style=\"text-align: right;\">\n",
       "      <th></th>\n",
       "      <th>student_id</th>\n",
       "    </tr>\n",
       "  </thead>\n",
       "  <tbody>\n",
       "    <tr>\n",
       "      <th>0</th>\n",
       "      <td>581585</td>\n",
       "    </tr>\n",
       "    <tr>\n",
       "      <th>1</th>\n",
       "      <td>5723133</td>\n",
       "    </tr>\n",
       "    <tr>\n",
       "      <th>2</th>\n",
       "      <td>3276743</td>\n",
       "    </tr>\n",
       "    <tr>\n",
       "      <th>3</th>\n",
       "      <td>4238589</td>\n",
       "    </tr>\n",
       "    <tr>\n",
       "      <th>4</th>\n",
       "      <td>4475369</td>\n",
       "    </tr>\n",
       "  </tbody>\n",
       "</table>\n",
       "</div>"
      ],
      "text/plain": [
       "   student_id\n",
       "0      581585\n",
       "1     5723133\n",
       "2     3276743\n",
       "3     4238589\n",
       "4     4475369"
      ]
     },
     "execution_count": 16,
     "metadata": {},
     "output_type": "execute_result"
    }
   ],
   "source": [
    "active_studs.head()"
   ]
  },
  {
   "cell_type": "code",
   "execution_count": 17,
   "metadata": {},
   "outputs": [
    {
     "data": {
      "text/plain": [
       "student_id    int64\n",
       "dtype: object"
      ]
     },
     "execution_count": 17,
     "metadata": {},
     "output_type": "execute_result"
    }
   ],
   "source": [
    "active_studs.dtypes"
   ]
  },
  {
   "cell_type": "code",
   "execution_count": 18,
   "metadata": {},
   "outputs": [
    {
     "data": {
      "text/plain": [
       "student_id    0\n",
       "dtype: int64"
      ]
     },
     "execution_count": 18,
     "metadata": {},
     "output_type": "execute_result"
    }
   ],
   "source": [
    "active_studs.isna().sum()"
   ]
  },
  {
   "cell_type": "code",
   "execution_count": 19,
   "metadata": {
    "scrolled": true
   },
   "outputs": [
    {
     "data": {
      "text/plain": [
       "0"
      ]
     },
     "execution_count": 19,
     "metadata": {},
     "output_type": "execute_result"
    }
   ],
   "source": [
    "active_studs.duplicated().sum()"
   ]
  },
  {
   "cell_type": "markdown",
   "metadata": {},
   "source": [
    "##### checks"
   ]
  },
  {
   "cell_type": "code",
   "execution_count": 20,
   "metadata": {},
   "outputs": [
    {
     "data": {
      "text/html": [
       "<div>\n",
       "<style scoped>\n",
       "    .dataframe tbody tr th:only-of-type {\n",
       "        vertical-align: middle;\n",
       "    }\n",
       "\n",
       "    .dataframe tbody tr th {\n",
       "        vertical-align: top;\n",
       "    }\n",
       "\n",
       "    .dataframe thead th {\n",
       "        text-align: right;\n",
       "    }\n",
       "</style>\n",
       "<table border=\"1\" class=\"dataframe\">\n",
       "  <thead>\n",
       "    <tr style=\"text-align: right;\">\n",
       "      <th></th>\n",
       "      <th>student_id</th>\n",
       "      <th>rev</th>\n",
       "    </tr>\n",
       "  </thead>\n",
       "  <tbody>\n",
       "    <tr>\n",
       "      <th>0</th>\n",
       "      <td>1627</td>\n",
       "      <td>990.0</td>\n",
       "    </tr>\n",
       "    <tr>\n",
       "      <th>1</th>\n",
       "      <td>3185</td>\n",
       "      <td>690.0</td>\n",
       "    </tr>\n",
       "    <tr>\n",
       "      <th>2</th>\n",
       "      <td>25973</td>\n",
       "      <td>690.0</td>\n",
       "    </tr>\n",
       "    <tr>\n",
       "      <th>3</th>\n",
       "      <td>26280</td>\n",
       "      <td>690.0</td>\n",
       "    </tr>\n",
       "    <tr>\n",
       "      <th>4</th>\n",
       "      <td>100300</td>\n",
       "      <td>990.0</td>\n",
       "    </tr>\n",
       "  </tbody>\n",
       "</table>\n",
       "</div>"
      ],
      "text/plain": [
       "   student_id    rev\n",
       "0        1627  990.0\n",
       "1        3185  690.0\n",
       "2       25973  690.0\n",
       "3       26280  690.0\n",
       "4      100300  990.0"
      ]
     },
     "execution_count": 20,
     "metadata": {},
     "output_type": "execute_result"
    }
   ],
   "source": [
    "checks.head()"
   ]
  },
  {
   "cell_type": "code",
   "execution_count": 21,
   "metadata": {},
   "outputs": [
    {
     "data": {
      "text/plain": [
       "student_id      int64\n",
       "rev           float64\n",
       "dtype: object"
      ]
     },
     "execution_count": 21,
     "metadata": {},
     "output_type": "execute_result"
    }
   ],
   "source": [
    "checks.dtypes"
   ]
  },
  {
   "cell_type": "code",
   "execution_count": 22,
   "metadata": {},
   "outputs": [
    {
     "data": {
      "text/plain": [
       "student_id    0\n",
       "rev           0\n",
       "dtype: int64"
      ]
     },
     "execution_count": 22,
     "metadata": {},
     "output_type": "execute_result"
    }
   ],
   "source": [
    "checks.isna().sum()"
   ]
  },
  {
   "cell_type": "code",
   "execution_count": 23,
   "metadata": {},
   "outputs": [
    {
     "data": {
      "text/plain": [
       "0"
      ]
     },
     "execution_count": 23,
     "metadata": {},
     "output_type": "execute_result"
    }
   ],
   "source": [
    "checks.duplicated(subset=['student_id']).sum()"
   ]
  },
  {
   "cell_type": "markdown",
   "metadata": {},
   "source": [
    "#### Вывод по EDA: \n",
    "\n",
    "В наших данных нет ни дубликатов пользователей, ни пропущенных значений, и формат данных соответствует нужному типу. Так что можно двигаться дальше!"
   ]
  },
  {
   "cell_type": "markdown",
   "metadata": {},
   "source": [
    "## 3. Сбор данных в нужный вид"
   ]
  },
  {
   "cell_type": "markdown",
   "metadata": {},
   "source": [
    "По условиям задачи, помимо основных данных (groups), у нас есть также дополнительные данные по пользователям (groups_add), которые пришли 2-мя днями позже. Это значит, что эти данные нужно объединить в одну таблицу.\n",
    "\n",
    "После, у тех пользователей, которые зашли в день проведения эксперимента (active_studs) и сделали оплату (checks), мы должны узнать, к какой группе они принадлежат."
   ]
  },
  {
   "cell_type": "code",
   "execution_count": 24,
   "metadata": {},
   "outputs": [],
   "source": [
    "# 3.1 Соединяем таблицы \"groups\" и \"groups_add\"\n",
    "\n",
    "whole_group = pd.concat([groups, groups_add], ignore_index=True)"
   ]
  },
  {
   "cell_type": "code",
   "execution_count": 25,
   "metadata": {},
   "outputs": [
    {
     "data": {
      "text/html": [
       "<div>\n",
       "<style scoped>\n",
       "    .dataframe tbody tr th:only-of-type {\n",
       "        vertical-align: middle;\n",
       "    }\n",
       "\n",
       "    .dataframe tbody tr th {\n",
       "        vertical-align: top;\n",
       "    }\n",
       "\n",
       "    .dataframe thead th {\n",
       "        text-align: right;\n",
       "    }\n",
       "</style>\n",
       "<table border=\"1\" class=\"dataframe\">\n",
       "  <thead>\n",
       "    <tr style=\"text-align: right;\">\n",
       "      <th></th>\n",
       "      <th>id</th>\n",
       "      <th>grp</th>\n",
       "    </tr>\n",
       "  </thead>\n",
       "  <tbody>\n",
       "    <tr>\n",
       "      <th>0</th>\n",
       "      <td>1489</td>\n",
       "      <td>B</td>\n",
       "    </tr>\n",
       "    <tr>\n",
       "      <th>1</th>\n",
       "      <td>1627</td>\n",
       "      <td>A</td>\n",
       "    </tr>\n",
       "    <tr>\n",
       "      <th>2</th>\n",
       "      <td>1768</td>\n",
       "      <td>B</td>\n",
       "    </tr>\n",
       "    <tr>\n",
       "      <th>3</th>\n",
       "      <td>1783</td>\n",
       "      <td>B</td>\n",
       "    </tr>\n",
       "    <tr>\n",
       "      <th>4</th>\n",
       "      <td>1794</td>\n",
       "      <td>A</td>\n",
       "    </tr>\n",
       "  </tbody>\n",
       "</table>\n",
       "</div>"
      ],
      "text/plain": [
       "     id grp\n",
       "0  1489   B\n",
       "1  1627   A\n",
       "2  1768   B\n",
       "3  1783   B\n",
       "4  1794   A"
      ]
     },
     "execution_count": 25,
     "metadata": {},
     "output_type": "execute_result"
    }
   ],
   "source": [
    "whole_group.head()"
   ]
  },
  {
   "cell_type": "code",
   "execution_count": 26,
   "metadata": {},
   "outputs": [],
   "source": [
    "# 3.2 Объединяем предыдущую таблицу с таблицей пользователей, которые зашли в день проведения эксперимента\n",
    "\n",
    "active_studs_with_groups = active_studs.merge(whole_group, \n",
    "                                  left_on='student_id',\n",
    "                                  right_on='id',\n",
    "                                  how='left')\n",
    "\n",
    "active_studs_with_groups = active_studs_with_groups.drop('id', axis=1)"
   ]
  },
  {
   "cell_type": "code",
   "execution_count": 27,
   "metadata": {},
   "outputs": [
    {
     "data": {
      "text/plain": [
       "student_id    0\n",
       "grp           0\n",
       "dtype: int64"
      ]
     },
     "execution_count": 27,
     "metadata": {},
     "output_type": "execute_result"
    }
   ],
   "source": [
    "active_studs_with_groups.isna().sum()"
   ]
  },
  {
   "cell_type": "code",
   "execution_count": 28,
   "metadata": {},
   "outputs": [],
   "source": [
    "# 3.3 Объединяем только что созданную таблицу с таблицей пользователей, которые сделали покупку в дни проведения эксперимента\n",
    "\n",
    "paid_users = active_studs_with_groups.merge(checks, \n",
    "                                            on='student_id')"
   ]
  },
  {
   "cell_type": "code",
   "execution_count": 29,
   "metadata": {},
   "outputs": [
    {
     "data": {
      "text/html": [
       "<div>\n",
       "<style scoped>\n",
       "    .dataframe tbody tr th:only-of-type {\n",
       "        vertical-align: middle;\n",
       "    }\n",
       "\n",
       "    .dataframe tbody tr th {\n",
       "        vertical-align: top;\n",
       "    }\n",
       "\n",
       "    .dataframe thead th {\n",
       "        text-align: right;\n",
       "    }\n",
       "</style>\n",
       "<table border=\"1\" class=\"dataframe\">\n",
       "  <thead>\n",
       "    <tr style=\"text-align: right;\">\n",
       "      <th></th>\n",
       "      <th>student_id</th>\n",
       "      <th>grp</th>\n",
       "      <th>rev</th>\n",
       "    </tr>\n",
       "  </thead>\n",
       "  <tbody>\n",
       "    <tr>\n",
       "      <th>0</th>\n",
       "      <td>1184303</td>\n",
       "      <td>A</td>\n",
       "      <td>1530.0000</td>\n",
       "    </tr>\n",
       "    <tr>\n",
       "      <th>1</th>\n",
       "      <td>3354191</td>\n",
       "      <td>B</td>\n",
       "      <td>1900.0001</td>\n",
       "    </tr>\n",
       "    <tr>\n",
       "      <th>2</th>\n",
       "      <td>3278734</td>\n",
       "      <td>B</td>\n",
       "      <td>1900.0000</td>\n",
       "    </tr>\n",
       "    <tr>\n",
       "      <th>3</th>\n",
       "      <td>720651</td>\n",
       "      <td>A</td>\n",
       "      <td>1980.0000</td>\n",
       "    </tr>\n",
       "    <tr>\n",
       "      <th>4</th>\n",
       "      <td>1232221</td>\n",
       "      <td>B</td>\n",
       "      <td>1900.0000</td>\n",
       "    </tr>\n",
       "  </tbody>\n",
       "</table>\n",
       "</div>"
      ],
      "text/plain": [
       "   student_id grp        rev\n",
       "0     1184303   A  1530.0000\n",
       "1     3354191   B  1900.0001\n",
       "2     3278734   B  1900.0000\n",
       "3      720651   A  1980.0000\n",
       "4     1232221   B  1900.0000"
      ]
     },
     "execution_count": 29,
     "metadata": {},
     "output_type": "execute_result"
    }
   ],
   "source": [
    "paid_users.head()"
   ]
  },
  {
   "cell_type": "markdown",
   "metadata": {},
   "source": [
    "## 4. Подбор критерия"
   ]
  },
  {
   "cell_type": "markdown",
   "metadata": {},
   "source": [
    "После того, как привели наши данные в нужный вид, мы должны определить нашу нулевую гипотезу и выбрать критерий оценки для нашего эксперимента.\n",
    "\n",
    "Так как у нас есть данные по потраченной сумме от каждого пользователя, кто сделал покупку, мы можем проводить A/B-тест по данной метрике. То есть наша нулевая гипотеза будет состоять в том, что \"средний чек пользователя из контрольной группы не отличается от среднего чека пользователя из тестовой группы\". Тем самым, если наш p-value покажет результат меньше 5%, мы с 95%-й вероятностью сможем утверждать, что различия все-таки есть, и они статистически значимы. Значит, есть  смысл установки новой механики оплаты услуг на сайте.\n",
    "\n",
    "\n",
    "Что касается критерия оценивания, у нас есть 3 варианта: t-тест, тест Манна-Уитни и bootstrap.\n",
    "\n",
    "Для начала наши данные нужно разбить на две группы(выборки): тестовая/целевая (test_grp) и контрольная (control_grp). Дальше мы проверяем наши выборки на нормальность распределения и гомогенность дисперсий, чтобы понять, стоит ли нам здесь использовать t-тест Стьюдента."
   ]
  },
  {
   "cell_type": "markdown",
   "metadata": {
    "scrolled": true
   },
   "source": [
    "Первым делом стоит взглянуть на соотношение наших значений.\n"
   ]
  },
  {
   "cell_type": "code",
   "execution_count": 30,
   "metadata": {},
   "outputs": [
    {
     "data": {
      "text/plain": [
       "B    314\n",
       "A     78\n",
       "Name: grp, dtype: int64"
      ]
     },
     "execution_count": 30,
     "metadata": {},
     "output_type": "execute_result"
    }
   ],
   "source": [
    "paid_users.grp.value_counts()"
   ]
  },
  {
   "cell_type": "markdown",
   "metadata": {},
   "source": [
    "В наших данных больше пользователей из целевой группы, а общее количество — 392. Однако, это не является проблемой при использовании стат.критерия."
   ]
  },
  {
   "cell_type": "code",
   "execution_count": 31,
   "metadata": {},
   "outputs": [
    {
     "data": {
      "text/plain": [
       "<matplotlib.axes._subplots.AxesSubplot at 0x7fbc081bbcf8>"
      ]
     },
     "execution_count": 31,
     "metadata": {},
     "output_type": "execute_result"
    },
    {
     "data": {
      "image/png": "[encoded data removed]",
      "text/plain": [
       "<Figure size 576x432 with 1 Axes>"
      ]
     },
     "metadata": {
      "needs_background": "light"
     },
     "output_type": "display_data"
    }
   ],
   "source": [
    "# 4.2 Построим гистограммы наших значений\n",
    "\n",
    "plt.figure(figsize=(8,6))\n",
    "sns.histplot(x='rev', data=paid_users, hue='grp')"
   ]
  },
  {
   "cell_type": "markdown",
   "metadata": {},
   "source": [
    "Уже на гистограммах наших значений заметно, что ни в тестовой, ни в контрольной группах распределение не близко к нормальному, что уже ставит под сомнение выбор t-теста.\n",
    "\n",
    "Утверждают, что при большой выборке данным требованием можно пренебречь. Однако, наших данных не так то много (392 наблюдений)."
   ]
  },
  {
   "cell_type": "code",
   "execution_count": 32,
   "metadata": {},
   "outputs": [],
   "source": [
    "# 4.3 Создаем выборки с тестовой и контрольной группами\n",
    "\n",
    "control_grp = paid_users[paid_users['grp'] == 'A'].rev\n",
    "test_grp = paid_users[paid_users['grp'] == 'B'].rev"
   ]
  },
  {
   "cell_type": "code",
   "execution_count": 33,
   "metadata": {},
   "outputs": [
    {
     "data": {
      "image/png": "[encoded data removed]",
      "text/plain": [
       "<Figure size 432x288 with 1 Axes>"
      ]
     },
     "execution_count": 33,
     "metadata": {},
     "output_type": "execute_result"
    },
    {
     "data": {
      "image/png": "[encoded data removed]",
      "text/plain": [
       "<Figure size 432x288 with 1 Axes>"
      ]
     },
     "metadata": {
      "needs_background": "light"
     },
     "output_type": "display_data"
    }
   ],
   "source": [
    "# 4.4 Построим график QQ-plot для двух выборок\n",
    "\n",
    "sm.qqplot(test_grp, line='r')"
   ]
  },
  {
   "cell_type": "code",
   "execution_count": 34,
   "metadata": {},
   "outputs": [
    {
     "data": {
      "image/png": "[encoded data removed]",
      "text/plain": [
       "<Figure size 432x288 with 1 Axes>"
      ]
     },
     "execution_count": 34,
     "metadata": {},
     "output_type": "execute_result"
    },
    {
     "data": {
      "image/png": "[encoded data removed]",
      "text/plain": [
       "<Figure size 432x288 with 1 Axes>"
      ]
     },
     "metadata": {
      "needs_background": "light"
     },
     "output_type": "display_data"
    }
   ],
   "source": [
    "sm.qqplot(control_grp, line='r')"
   ]
  },
  {
   "cell_type": "code",
   "execution_count": 35,
   "metadata": {},
   "outputs": [
    {
     "name": "stdout",
     "output_type": "stream",
     "text": [
      "ShapiroResult(statistic=0.7353236079216003, pvalue=1.4986822893803264e-10)\n",
      "ShapiroResult(statistic=0.8547235727310181, pvalue=1.5437024585965894e-16)\n"
     ]
    }
   ],
   "source": [
    "# 4.5 Посмотрим, что покажет тест Шапиро-Уилко на нормальность\n",
    "\n",
    "print(shapiro(control_grp))\n",
    "print(shapiro(test_grp))"
   ]
  },
  {
   "cell_type": "markdown",
   "metadata": {},
   "source": [
    "Мы видим, что, как на графиках qq-plot, так и при тесте Шапиро, результаты ведут к тому, что распределения наших обоих выборок не близко к нормальному."
   ]
  },
  {
   "cell_type": "code",
   "execution_count": 36,
   "metadata": {},
   "outputs": [
    {
     "data": {
      "text/plain": [
       "LeveneResult(statistic=3.0756816999816055, pvalue=0.08025675761347022)"
      ]
     },
     "execution_count": 36,
     "metadata": {},
     "output_type": "execute_result"
    }
   ],
   "source": [
    "# 4.6 Проверим требование к гомогенности дисперсий\n",
    "\n",
    "levene(control_grp, test_grp)"
   ]
  },
  {
   "cell_type": "markdown",
   "metadata": {},
   "source": [
    "Так как требования к t-тесту практически не соблюдаются, то целесообразно будет использовать либо непараметрический аналог t-теста, а именно критерий Манна-Уитни, либо Бутстрап.\n",
    "\n",
    "Я бы предпочел использовать Бутстрап, так как, с точки зрения бизнеса, результат Манна-Уитни тяжело интерпретировать."
   ]
  },
  {
   "cell_type": "code",
   "execution_count": 37,
   "metadata": {},
   "outputs": [],
   "source": [
    "# 4.7 Напишем функцию Бутстрапа\n",
    "\n",
    "def get_bootstrap(\n",
    "    data_column_1, # числовые значения первой выборки\n",
    "    data_column_2, # числовые значения второй выборки\n",
    "    boot_iter = 2000, # количество бутстрап-выборок\n",
    "    statistic = np.mean, # интересующая статистика\n",
    "    bootstrap_conf_level = 0.95 # уровень значимости\n",
    "):\n",
    "    boot_len = max(len(data_column_1), len(data_column_2))\n",
    "    boot_data = []\n",
    "    for i in range(boot_iter): # извлекаем подвыборки\n",
    "        samples_1 = data_column_1.sample(\n",
    "            boot_len,\n",
    "            replace=True # параметр возвращения\n",
    "        ).values\n",
    "        \n",
    "        samples_2 = data_column_2.sample(\n",
    "            boot_len,\n",
    "            replace=True\n",
    "        ).values\n",
    "        \n",
    "        boot_data.append(statistic(samples_1 - samples_2))\n",
    "        \n",
    "    pd_boot_data = pd.DataFrame(boot_data)\n",
    "    \n",
    "    left_quant = (1 - bootstrap_conf_level) / 2\n",
    "    right_quant = 1 - (1 - bootstrap_conf_level) / 2\n",
    "    ci = pd_boot_data.quantile([left_quant, right_quant])\n",
    "    \n",
    "    p_1 = norm.cdf(\n",
    "        x = 0,\n",
    "        loc = np.mean(boot_data),\n",
    "        scale = np.std(boot_data))\n",
    "    \n",
    "    p_2 = norm.cdf(\n",
    "        x = 0,\n",
    "        loc = -np.mean(boot_data),\n",
    "        scale = np.std(boot_data))\n",
    "    \n",
    "    p_value = min(p_1, p_2) * 2\n",
    "    \n",
    "    # Визуализация\n",
    "    plt.hist(pd_boot_data[0], bins=50)\n",
    "    \n",
    "    plt.style.use('ggplot')\n",
    "    plt.vlines(ci, ymin=0, ymax=50, linestyle='--')\n",
    "    plt.xlabel('boot_data')\n",
    "    plt.ylabel('frequency')\n",
    "    plt.title('Histogram of boot_data')\n",
    "    plt.show()\n",
    "    \n",
    "    return {'boot_data': boot_data,\n",
    "            'ci': ci,\n",
    "            'p_value': p_value}"
   ]
  },
  {
   "cell_type": "code",
   "execution_count": 38,
   "metadata": {
    "scrolled": true
   },
   "outputs": [
    {
     "data": {
      "image/png": "[encoded data removed]",
      "text/plain": [
       "<Figure size 432x288 with 1 Axes>"
      ]
     },
     "metadata": {
      "needs_background": "light"
     },
     "output_type": "display_data"
    }
   ],
   "source": [
    "# 4.8 Инициализируем наш Бутстрап\n",
    "\n",
    "boot_test = get_bootstrap(test_grp, control_grp, boot_iter=2000)"
   ]
  },
  {
   "cell_type": "code",
   "execution_count": 39,
   "metadata": {},
   "outputs": [
    {
     "data": {
      "text/html": [
       "<div>\n",
       "<style scoped>\n",
       "    .dataframe tbody tr th:only-of-type {\n",
       "        vertical-align: middle;\n",
       "    }\n",
       "\n",
       "    .dataframe tbody tr th {\n",
       "        vertical-align: top;\n",
       "    }\n",
       "\n",
       "    .dataframe thead th {\n",
       "        text-align: right;\n",
       "    }\n",
       "</style>\n",
       "<table border=\"1\" class=\"dataframe\">\n",
       "  <thead>\n",
       "    <tr style=\"text-align: right;\">\n",
       "      <th></th>\n",
       "      <th>0</th>\n",
       "    </tr>\n",
       "  </thead>\n",
       "  <tbody>\n",
       "    <tr>\n",
       "      <th>0.025</th>\n",
       "      <td>189.538466</td>\n",
       "    </tr>\n",
       "    <tr>\n",
       "      <th>0.975</th>\n",
       "      <td>455.097304</td>\n",
       "    </tr>\n",
       "  </tbody>\n",
       "</table>\n",
       "</div>"
      ],
      "text/plain": [
       "                0\n",
       "0.025  189.538466\n",
       "0.975  455.097304"
      ]
     },
     "execution_count": 39,
     "metadata": {},
     "output_type": "execute_result"
    }
   ],
   "source": [
    "# 4.9 Посмотрим на наши доверительные интервалы\n",
    "\n",
    "boot_test['ci']"
   ]
  },
  {
   "cell_type": "code",
   "execution_count": 40,
   "metadata": {},
   "outputs": [
    {
     "data": {
      "text/plain": [
       "1.8758810733174813e-06"
      ]
     },
     "execution_count": 40,
     "metadata": {},
     "output_type": "execute_result"
    }
   ],
   "source": [
    "# 4.10 Взглянем на p-value\n",
    "\n",
    "boot_test['p_value']"
   ]
  },
  {
   "cell_type": "markdown",
   "metadata": {},
   "source": [
    "Так как p-значение значительно меньше 0.05 и в доверительные интервалы не входит 0, мы можем сказать, что различия в средних наших выборок есть и они стат.значимы."
   ]
  },
  {
   "cell_type": "markdown",
   "metadata": {},
   "source": [
    "Для интереса, так же взглянем на результат теста Манна-Уитни"
   ]
  },
  {
   "cell_type": "code",
   "execution_count": 41,
   "metadata": {},
   "outputs": [
    {
     "data": {
      "text/plain": [
       "MannwhitneyuResult(statistic=9001.0, pvalue=0.0002511393831406922)"
      ]
     },
     "execution_count": 41,
     "metadata": {},
     "output_type": "execute_result"
    }
   ],
   "source": [
    "# 4.11 Тест Манна-Уитни так же показывает стат.значимое различие\n",
    "\n",
    "mannwhitneyu(control_grp, test_grp)"
   ]
  },
  {
   "cell_type": "markdown",
   "metadata": {},
   "source": [
    "### Итог по задаче 1:\n",
    "\n",
    "Мы провели предварительный анализ наших данных. В наших данных не было никаких дефектов, поэтому мы сразу приступили к следующей части. Мы обработали данные и привели их в нужный для нас вид. Дальше установили нулевую гипотезу.\n",
    "\n",
    "Исходя из характеристик наших тестовых и контрольных групп, мы выявили, что t-тест может дать ненадежный результат, поэтому решили взять метод bootstrap. Как показал результат, p-value меньше 0.05 и значение 0 не входит в наш доверительный интервал, что с 95%-й уверенностью позволяет нам сказать, что между группами есть статистически значимые различия.\n",
    "\n",
    "В результате, мы можем утвердить новую механику оплаты услуг на сайте и ожидать, что благодаря ней мы сможем увеличить средний чек пользователей. Возможно, на это повлияло новое внешнее оформление страницы оплаты (UI/UX дизайнеры поработали на славу!), либо благодаря нашим бэк-эндерам страница стала работать в разы быстрее, что уменьшило желание пользователей покидать страницу (причина может быть разная).\n"
   ]
  },
  {
   "cell_type": "markdown",
   "metadata": {},
   "source": [
    "# Задача 2 — SQL"
   ]
  },
  {
   "cell_type": "markdown",
   "metadata": {},
   "source": [
    "##### 2.1 Усердные ученики"
   ]
  },
  {
   "cell_type": "markdown",
   "metadata": {},
   "source": [
    "Образовательные курсы состоят из различных уроков, каждый из которых состоит из нескольких маленьких заданий. Каждое такое маленькое задание называется \"горошиной\".\n",
    "\n",
    "Назовём очень усердным учеником того пользователя, который хотя бы раз за текущий месяц правильно решил 20 горошин."
   ]
  },
  {
   "cell_type": "code",
   "execution_count": 62,
   "metadata": {},
   "outputs": [
    {
     "data": {
      "text/plain": [
       "'\\nSELECT\\n    COUNT(*)\\nFROM\\n    (SELECT \\n        st_id,\\n        SUM(correct)\\n    FROM peas\\n    WHERE\\n        toStartOfMonth(timest) == toStartOfMonth(now())\\n    GROUP BY\\n        st_id\\n    HAVING\\n        SUM(correct) >= 20)\\n'"
      ]
     },
     "execution_count": 62,
     "metadata": {},
     "output_type": "execute_result"
    }
   ],
   "source": [
    "\"\"\"\n",
    "SELECT\n",
    "    COUNT(*)\n",
    "FROM\n",
    "    (SELECT \n",
    "        st_id,\n",
    "        SUM(correct)\n",
    "    FROM peas\n",
    "    WHERE\n",
    "        toStartOfMonth(timest) == toStartOfMonth(now())\n",
    "    GROUP BY\n",
    "        st_id\n",
    "    HAVING\n",
    "        SUM(correct) >= 20)\n",
    "\"\"\""
   ]
  },
  {
   "cell_type": "markdown",
   "metadata": {},
   "source": [
    "##### 2.2 Оптимизация воронки"
   ]
  },
  {
   "cell_type": "markdown",
   "metadata": {},
   "source": [
    "Образовательная платформа предлагает пройти студентам курсы по модели trial: студент может решить бесплатно лишь 30 горошин в день. Для неограниченного количества заданий в определенной дисциплине студенту необходимо приобрести полный доступ. Команда провела эксперимент, где был протестирован новый экран оплаты.\n",
    "\n",
    "Необходимо в одном запросе выгрузить следующую информацию о группах пользователей:\n",
    "\n",
    "- ARPU\n",
    "\n",
    "- ARPAU\n",
    "\n",
    "- CR в покупку\n",
    "\n",
    "- СR активного пользователя в покупку \n",
    "\n",
    "- CR пользователя из активности по математике (subject = ’math’) в покупку курса по математике\n",
    "\n",
    "ARPU считается относительно всех пользователей, попавших в группы.\n",
    "\n",
    "Активным считается пользователь, за все время решивший больше 10 задач правильно в любых дисциплинах.\n",
    "\n",
    "Активным по математике считается пользователь, за все время решивший 2 или больше задач правильно по математике."
   ]
  },
  {
   "cell_type": "code",
   "execution_count": 60,
   "metadata": {},
   "outputs": [
    {
     "data": {
      "text/plain": [
       "\"\\nWITH (SELECT uniqExact(st_id) FROM studs) AS uniq_total_users_num,\\n\\n     (SELECT \\n        uniqExact(st_id) \\n      FROM\\n          (SELECT\\n               st_id,\\n               SUM(correct) AS correct_answer_num\\n           FROM peas\\n           WHERE st_id IN (SELECT\\n                              DISTINCT(st_id)\\n                           FROM studs\\n                           )\\n           GROUP BY st_id\\n           HAVING correct_answer_num > 10\\n           )\\n     ) AS uniq_active_users_num,\\n    \\n    (SELECT\\n        uniqExact(st_id)\\n     FROM final_project_check\\n     WHERE st_id IN (SELECT\\n                         st_id\\n                     FROM\\n                         (SELECT\\n                             st_id,\\n                             SUM(correct) AS correct_answer_num\\n                          FROM peas\\n                          WHERE st_id IN (SELECT\\n                                             DISTINCT(st_id)\\n                                          FROM studs\\n                                          )\\n                          GROUP BY st_id\\n                          HAVING correct_answer_num > 10\\n                         )\\n                     )\\n    ) AS uniq_active_paid_users_num,\\n    \\n    (SELECT \\n        uniqExact(st_id)\\n    FROM\\n        (SELECT\\n            st_id,\\n            SUM(correct) AS correct_math_answers_num\\n        FROM peas\\n        WHERE subject == 'Math' AND st_id IN (SELECT\\n                                                 DISTINCT(st_id)\\n                                              FROM studs)\\n        GROUP BY st_id\\n        HAVING correct_math_answers_num >= 2\\n        )\\n    ) AS uniq_active_math_users_num,\\n        \\n    (SELECT\\n        uniqExact(st_id)\\n    FROM final_project_check\\n    WHERE st_id in (SELECT\\n                        st_id\\n                    FROM\\n                        (SELECT\\n                            st_id,\\n                            SUM(correct) AS correct_math_answers_num\\n                         FROM peas\\n                         WHERE subject == 'Math' AND st_id in (SELECT\\n                                                                  DISTINCT(st_id)\\n                                                               FROM studs)\\n                         GROUP BY st_id\\n                         HAVING correct_math_answers_num >= 2))\\n        AND subject == 'Math'\\n    ) AS uniq_active_math_paid_users_num\\n\\nSELECT\\n    ROUND(SUM(money) / uniq_total_users_num, 2) AS ARPU,\\n    ROUND(SUM(money) / uniq_active_users_num, 2) AS ARPAU,\\n    ROUND(uniqExact(st_id) / uniq_total_users_num, 4) AS CR,\\n    ROUND(uniq_active_paid_users_num / uniq_active_users_num, 4) AS CR_active,\\n    ROUND(uniq_active_math_paid_users_num / uniq_active_math_users_num, 4) AS CR_math_active\\nFROM final_project_check\\n\""
      ]
     },
     "execution_count": 60,
     "metadata": {},
     "output_type": "execute_result"
    }
   ],
   "source": [
    "'''\n",
    "WITH (SELECT uniqExact(st_id) FROM studs) AS uniq_total_users_num,\n",
    "\n",
    "     (SELECT \n",
    "        uniqExact(st_id) \n",
    "      FROM\n",
    "          (SELECT\n",
    "               st_id,\n",
    "               SUM(correct) AS correct_answer_num\n",
    "           FROM peas\n",
    "           WHERE st_id IN (SELECT\n",
    "                              DISTINCT(st_id)\n",
    "                           FROM studs\n",
    "                           )\n",
    "           GROUP BY st_id\n",
    "           HAVING correct_answer_num > 10\n",
    "           )\n",
    "     ) AS uniq_active_users_num,\n",
    "    \n",
    "    (SELECT\n",
    "        uniqExact(st_id)\n",
    "     FROM final_project_check\n",
    "     WHERE st_id IN (SELECT\n",
    "                         st_id\n",
    "                     FROM\n",
    "                         (SELECT\n",
    "                             st_id,\n",
    "                             SUM(correct) AS correct_answer_num\n",
    "                          FROM peas\n",
    "                          WHERE st_id IN (SELECT\n",
    "                                             DISTINCT(st_id)\n",
    "                                          FROM studs\n",
    "                                          )\n",
    "                          GROUP BY st_id\n",
    "                          HAVING correct_answer_num > 10\n",
    "                         )\n",
    "                     )\n",
    "    ) AS uniq_active_paid_users_num,\n",
    "    \n",
    "    (SELECT \n",
    "        uniqExact(st_id)\n",
    "    FROM\n",
    "        (SELECT\n",
    "            st_id,\n",
    "            SUM(correct) AS correct_math_answers_num\n",
    "        FROM peas\n",
    "        WHERE subject == 'Math' AND st_id IN (SELECT\n",
    "                                                 DISTINCT(st_id)\n",
    "                                              FROM studs)\n",
    "        GROUP BY st_id\n",
    "        HAVING correct_math_answers_num >= 2\n",
    "        )\n",
    "    ) AS uniq_active_math_users_num,\n",
    "        \n",
    "    (SELECT\n",
    "        uniqExact(st_id)\n",
    "    FROM final_project_check\n",
    "    WHERE st_id in (SELECT\n",
    "                        st_id\n",
    "                    FROM\n",
    "                        (SELECT\n",
    "                            st_id,\n",
    "                            SUM(correct) AS correct_math_answers_num\n",
    "                         FROM peas\n",
    "                         WHERE subject == 'Math' AND st_id in (SELECT\n",
    "                                                                  DISTINCT(st_id)\n",
    "                                                               FROM studs)\n",
    "                         GROUP BY st_id\n",
    "                         HAVING correct_math_answers_num >= 2))\n",
    "        AND subject == 'Math'\n",
    "    ) AS uniq_active_math_paid_users_num\n",
    "\n",
    "SELECT\n",
    "    ROUND(SUM(money) / uniq_total_users_num, 2) AS ARPU,\n",
    "    ROUND(SUM(money) / uniq_active_users_num, 2) AS ARPAU,\n",
    "    ROUND(uniqExact(st_id) / uniq_total_users_num, 4) AS CR,\n",
    "    ROUND(uniq_active_paid_users_num / uniq_active_users_num, 4) AS CR_active,\n",
    "    ROUND(uniq_active_math_paid_users_num / uniq_active_math_users_num, 4) AS CR_math_active\n",
    "FROM final_project_check\n",
    "'''"
   ]
  },
  {
   "cell_type": "markdown",
   "metadata": {},
   "source": [
    "# Задача 3 — Python Function"
   ]
  },
  {
   "cell_type": "markdown",
   "metadata": {},
   "source": [
    "##### Условие:"
   ]
  },
  {
   "cell_type": "markdown",
   "metadata": {},
   "source": [
    "Реализуйте функцию, которая будет автоматически подгружать информацию из дополнительного файла groups_add.csv (заголовки могут отличаться) и на основании дополнительных параметров пересчитывать метрики.\n",
    "\n",
    "Реализуйте функцию, которая будет строить графики по получаемым метрикам."
   ]
  },
  {
   "cell_type": "markdown",
   "metadata": {},
   "source": [
    "##### Решение:"
   ]
  },
  {
   "cell_type": "markdown",
   "metadata": {},
   "source": [
    "Перед решением данной задачи, хочется сделать пару допущений.\n",
    "\n",
    "Во-первых, будем считать, что наш изначальный датафрейм, по которому были посчитаны наши показатели, была уже приведена в нужный вид (то есть в виде таблицы paid_users).\n",
    "\n",
    "Во-вторых, раз мы использовали в изначальном варианте метод bootstrap, то внутри функции также будет считать по данному методу.\n",
    "\n",
    "В-третьих, функция с построением графика будет объединена с первой функцией."
   ]
  },
  {
   "cell_type": "code",
   "execution_count": 44,
   "metadata": {},
   "outputs": [],
   "source": [
    "def update_metrics(initial_df, new_df):\n",
    "    \n",
    "    # Назначим переменные для названия столбцов новой таблицы \n",
    "    first_column, second_column = new_df.columns\n",
    "    \n",
    "    # Поменяем названия столбцов на случай, если заголовки будут другими\n",
    "    new_df = new_df.rename(columns={first_column: 'id',\n",
    "                                    second_column: 'grp'})\n",
    "    \n",
    "    # Сделаем преобразование, где выделим только тех пользователей, которые были в день эксперимента и сделали покупку\n",
    "    active_studs_add_groups = active_studs.merge(new_df, \n",
    "                                  left_on='student_id',\n",
    "                                  right_on='id')\n",
    "    \n",
    "    active_studs_add_groups = active_studs_add_groups.drop('id', axis=1)\n",
    "    \n",
    "    paid_add_users = active_studs_add_groups.merge(checks, \n",
    "                                            on='student_id')\n",
    "    \n",
    "    # Соединим наш новый датафрейм с предыдущим, по которому уже считали метрики\n",
    "    final_df = pd.concat([initial_df, paid_add_users], ignore_index=True)\n",
    "    \n",
    "    # Снова разобъем наши данные на тестовую и контрольные выборки\n",
    "    control_grp = final_df[final_df['grp'] == 'A'].rev\n",
    "    test_grp = final_df[final_df['grp'] == 'B'].rev\n",
    "    \n",
    "    # Проведем bootstrap, который за одно и построит график\n",
    "    boot_test = get_bootstrap(test_grp, control_grp, boot_iter=2000)\n",
    "    \n",
    "    # Вернем результат и график\n",
    "    return boot_test"
   ]
  },
  {
   "cell_type": "markdown",
   "metadata": {},
   "source": [
    "##### P.S."
   ]
  },
  {
   "cell_type": "markdown",
   "metadata": {},
   "source": [
    "В данной функции функцию \"get_bootstrap\" можно было бы прописать внутри, если бы она не была определена заранее или функция не была бы установлена в виде модуля.\n",
    "\n",
    "Если бы нам давали только ссылку на Яндекс.Диск, то это также можно было бы прописать внутри функции, как это было прописано в начале этой юпитер файла. "
   ]
  }
 ],
 "metadata": {
  "kernelspec": {
   "display_name": "Python 3",
   "language": "python",
   "name": "python3"
  },
  "language_info": {
   "codemirror_mode": {
    "name": "ipython",
    "version": 3
   },
   "file_extension": ".py",
   "mimetype": "text/x-python",
   "name": "python",
   "nbconvert_exporter": "python",
   "pygments_lexer": "ipython3",
   "version": "3.7.3"
  }
 },
 "nbformat": 4,
 "nbformat_minor": 4
}
